{
  "cells": [
    {
      "cell_type": "markdown",
      "metadata": {
        "id": "view-in-github",
        "colab_type": "text"
      },
      "source": [
        "<a href=\"https://colab.research.google.com/github/CT608/Kaggle_Project/blob/main/Airbnb_New_User__Bookings_.ipynb\" target=\"_parent\"><img src=\"https://colab.research.google.com/assets/colab-badge.svg\" alt=\"Open In Colab\"/></a>"
      ]
    },
    {
      "cell_type": "code",
      "execution_count": 49,
      "id": "263fff66",
      "metadata": {
        "id": "263fff66"
      },
      "outputs": [],
      "source": [
        "import pandas as pd\n",
        "import numpy as np\n",
        "import matplotlib.pyplot as plt\n",
        "import seaborn as sns\n",
        "from sklearn.preprocessing import OrdinalEncoder\n",
        "import xgboost as xgb"
      ]
    },
    {
      "cell_type": "markdown",
      "source": [
        "# New Section"
      ],
      "metadata": {
        "id": "MV_w5VhZGmns"
      },
      "id": "MV_w5VhZGmns"
    },
    {
      "cell_type": "markdown",
      "id": "00becbdb",
      "metadata": {
        "id": "00becbdb"
      },
      "source": [
        "# Import Data"
      ]
    },
    {
      "cell_type": "code",
      "execution_count": 2,
      "id": "30de2fac",
      "metadata": {
        "colab": {
          "base_uri": "https://localhost:8080/",
          "height": 305
        },
        "id": "30de2fac",
        "outputId": "659b742d-4079-4a0c-b75e-3f6b4a329fe7"
      },
      "outputs": [
        {
          "output_type": "execute_result",
          "data": {
            "text/plain": [
              "           id date_account_created  timestamp_first_active date_first_booking  \\\n",
              "0  gxn3p5htnn           2010-06-28          20090319043255                NaN   \n",
              "1  820tgsjxq7           2011-05-25          20090523174809                NaN   \n",
              "2  4ft3gnwmtx           2010-09-28          20090609231247         2010-08-02   \n",
              "3  bjjt8pjhuk           2011-12-05          20091031060129         2012-09-08   \n",
              "4  87mebub9p4           2010-09-14          20091208061105         2010-02-18   \n",
              "\n",
              "      gender   age signup_method  signup_flow language affiliate_channel  \\\n",
              "0  -unknown-   NaN      facebook            0       en            direct   \n",
              "1       MALE  38.0      facebook            0       en               seo   \n",
              "2     FEMALE  56.0         basic            3       en            direct   \n",
              "3     FEMALE  42.0      facebook            0       en            direct   \n",
              "4  -unknown-  41.0         basic            0       en            direct   \n",
              "\n",
              "  affiliate_provider first_affiliate_tracked signup_app first_device_type  \\\n",
              "0             direct               untracked        Web       Mac Desktop   \n",
              "1             google               untracked        Web       Mac Desktop   \n",
              "2             direct               untracked        Web   Windows Desktop   \n",
              "3             direct               untracked        Web       Mac Desktop   \n",
              "4             direct               untracked        Web       Mac Desktop   \n",
              "\n",
              "  first_browser country_destination  \n",
              "0        Chrome                 NDF  \n",
              "1        Chrome                 NDF  \n",
              "2            IE                  US  \n",
              "3       Firefox               other  \n",
              "4        Chrome                  US  "
            ],
            "text/html": [
              "\n",
              "  <div id=\"df-c98fed91-b261-4a77-80df-aa4e6dbd7621\">\n",
              "    <div class=\"colab-df-container\">\n",
              "      <div>\n",
              "<style scoped>\n",
              "    .dataframe tbody tr th:only-of-type {\n",
              "        vertical-align: middle;\n",
              "    }\n",
              "\n",
              "    .dataframe tbody tr th {\n",
              "        vertical-align: top;\n",
              "    }\n",
              "\n",
              "    .dataframe thead th {\n",
              "        text-align: right;\n",
              "    }\n",
              "</style>\n",
              "<table border=\"1\" class=\"dataframe\">\n",
              "  <thead>\n",
              "    <tr style=\"text-align: right;\">\n",
              "      <th></th>\n",
              "      <th>id</th>\n",
              "      <th>date_account_created</th>\n",
              "      <th>timestamp_first_active</th>\n",
              "      <th>date_first_booking</th>\n",
              "      <th>gender</th>\n",
              "      <th>age</th>\n",
              "      <th>signup_method</th>\n",
              "      <th>signup_flow</th>\n",
              "      <th>language</th>\n",
              "      <th>affiliate_channel</th>\n",
              "      <th>affiliate_provider</th>\n",
              "      <th>first_affiliate_tracked</th>\n",
              "      <th>signup_app</th>\n",
              "      <th>first_device_type</th>\n",
              "      <th>first_browser</th>\n",
              "      <th>country_destination</th>\n",
              "    </tr>\n",
              "  </thead>\n",
              "  <tbody>\n",
              "    <tr>\n",
              "      <th>0</th>\n",
              "      <td>gxn3p5htnn</td>\n",
              "      <td>2010-06-28</td>\n",
              "      <td>20090319043255</td>\n",
              "      <td>NaN</td>\n",
              "      <td>-unknown-</td>\n",
              "      <td>NaN</td>\n",
              "      <td>facebook</td>\n",
              "      <td>0</td>\n",
              "      <td>en</td>\n",
              "      <td>direct</td>\n",
              "      <td>direct</td>\n",
              "      <td>untracked</td>\n",
              "      <td>Web</td>\n",
              "      <td>Mac Desktop</td>\n",
              "      <td>Chrome</td>\n",
              "      <td>NDF</td>\n",
              "    </tr>\n",
              "    <tr>\n",
              "      <th>1</th>\n",
              "      <td>820tgsjxq7</td>\n",
              "      <td>2011-05-25</td>\n",
              "      <td>20090523174809</td>\n",
              "      <td>NaN</td>\n",
              "      <td>MALE</td>\n",
              "      <td>38.0</td>\n",
              "      <td>facebook</td>\n",
              "      <td>0</td>\n",
              "      <td>en</td>\n",
              "      <td>seo</td>\n",
              "      <td>google</td>\n",
              "      <td>untracked</td>\n",
              "      <td>Web</td>\n",
              "      <td>Mac Desktop</td>\n",
              "      <td>Chrome</td>\n",
              "      <td>NDF</td>\n",
              "    </tr>\n",
              "    <tr>\n",
              "      <th>2</th>\n",
              "      <td>4ft3gnwmtx</td>\n",
              "      <td>2010-09-28</td>\n",
              "      <td>20090609231247</td>\n",
              "      <td>2010-08-02</td>\n",
              "      <td>FEMALE</td>\n",
              "      <td>56.0</td>\n",
              "      <td>basic</td>\n",
              "      <td>3</td>\n",
              "      <td>en</td>\n",
              "      <td>direct</td>\n",
              "      <td>direct</td>\n",
              "      <td>untracked</td>\n",
              "      <td>Web</td>\n",
              "      <td>Windows Desktop</td>\n",
              "      <td>IE</td>\n",
              "      <td>US</td>\n",
              "    </tr>\n",
              "    <tr>\n",
              "      <th>3</th>\n",
              "      <td>bjjt8pjhuk</td>\n",
              "      <td>2011-12-05</td>\n",
              "      <td>20091031060129</td>\n",
              "      <td>2012-09-08</td>\n",
              "      <td>FEMALE</td>\n",
              "      <td>42.0</td>\n",
              "      <td>facebook</td>\n",
              "      <td>0</td>\n",
              "      <td>en</td>\n",
              "      <td>direct</td>\n",
              "      <td>direct</td>\n",
              "      <td>untracked</td>\n",
              "      <td>Web</td>\n",
              "      <td>Mac Desktop</td>\n",
              "      <td>Firefox</td>\n",
              "      <td>other</td>\n",
              "    </tr>\n",
              "    <tr>\n",
              "      <th>4</th>\n",
              "      <td>87mebub9p4</td>\n",
              "      <td>2010-09-14</td>\n",
              "      <td>20091208061105</td>\n",
              "      <td>2010-02-18</td>\n",
              "      <td>-unknown-</td>\n",
              "      <td>41.0</td>\n",
              "      <td>basic</td>\n",
              "      <td>0</td>\n",
              "      <td>en</td>\n",
              "      <td>direct</td>\n",
              "      <td>direct</td>\n",
              "      <td>untracked</td>\n",
              "      <td>Web</td>\n",
              "      <td>Mac Desktop</td>\n",
              "      <td>Chrome</td>\n",
              "      <td>US</td>\n",
              "    </tr>\n",
              "  </tbody>\n",
              "</table>\n",
              "</div>\n",
              "      <button class=\"colab-df-convert\" onclick=\"convertToInteractive('df-c98fed91-b261-4a77-80df-aa4e6dbd7621')\"\n",
              "              title=\"Convert this dataframe to an interactive table.\"\n",
              "              style=\"display:none;\">\n",
              "        \n",
              "  <svg xmlns=\"http://www.w3.org/2000/svg\" height=\"24px\"viewBox=\"0 0 24 24\"\n",
              "       width=\"24px\">\n",
              "    <path d=\"M0 0h24v24H0V0z\" fill=\"none\"/>\n",
              "    <path d=\"M18.56 5.44l.94 2.06.94-2.06 2.06-.94-2.06-.94-.94-2.06-.94 2.06-2.06.94zm-11 1L8.5 8.5l.94-2.06 2.06-.94-2.06-.94L8.5 2.5l-.94 2.06-2.06.94zm10 10l.94 2.06.94-2.06 2.06-.94-2.06-.94-.94-2.06-.94 2.06-2.06.94z\"/><path d=\"M17.41 7.96l-1.37-1.37c-.4-.4-.92-.59-1.43-.59-.52 0-1.04.2-1.43.59L10.3 9.45l-7.72 7.72c-.78.78-.78 2.05 0 2.83L4 21.41c.39.39.9.59 1.41.59.51 0 1.02-.2 1.41-.59l7.78-7.78 2.81-2.81c.8-.78.8-2.07 0-2.86zM5.41 20L4 18.59l7.72-7.72 1.47 1.35L5.41 20z\"/>\n",
              "  </svg>\n",
              "      </button>\n",
              "      \n",
              "  <style>\n",
              "    .colab-df-container {\n",
              "      display:flex;\n",
              "      flex-wrap:wrap;\n",
              "      gap: 12px;\n",
              "    }\n",
              "\n",
              "    .colab-df-convert {\n",
              "      background-color: #E8F0FE;\n",
              "      border: none;\n",
              "      border-radius: 50%;\n",
              "      cursor: pointer;\n",
              "      display: none;\n",
              "      fill: #1967D2;\n",
              "      height: 32px;\n",
              "      padding: 0 0 0 0;\n",
              "      width: 32px;\n",
              "    }\n",
              "\n",
              "    .colab-df-convert:hover {\n",
              "      background-color: #E2EBFA;\n",
              "      box-shadow: 0px 1px 2px rgba(60, 64, 67, 0.3), 0px 1px 3px 1px rgba(60, 64, 67, 0.15);\n",
              "      fill: #174EA6;\n",
              "    }\n",
              "\n",
              "    [theme=dark] .colab-df-convert {\n",
              "      background-color: #3B4455;\n",
              "      fill: #D2E3FC;\n",
              "    }\n",
              "\n",
              "    [theme=dark] .colab-df-convert:hover {\n",
              "      background-color: #434B5C;\n",
              "      box-shadow: 0px 1px 3px 1px rgba(0, 0, 0, 0.15);\n",
              "      filter: drop-shadow(0px 1px 2px rgba(0, 0, 0, 0.3));\n",
              "      fill: #FFFFFF;\n",
              "    }\n",
              "  </style>\n",
              "\n",
              "      <script>\n",
              "        const buttonEl =\n",
              "          document.querySelector('#df-c98fed91-b261-4a77-80df-aa4e6dbd7621 button.colab-df-convert');\n",
              "        buttonEl.style.display =\n",
              "          google.colab.kernel.accessAllowed ? 'block' : 'none';\n",
              "\n",
              "        async function convertToInteractive(key) {\n",
              "          const element = document.querySelector('#df-c98fed91-b261-4a77-80df-aa4e6dbd7621');\n",
              "          const dataTable =\n",
              "            await google.colab.kernel.invokeFunction('convertToInteractive',\n",
              "                                                     [key], {});\n",
              "          if (!dataTable) return;\n",
              "\n",
              "          const docLinkHtml = 'Like what you see? Visit the ' +\n",
              "            '<a target=\"_blank\" href=https://colab.research.google.com/notebooks/data_table.ipynb>data table notebook</a>'\n",
              "            + ' to learn more about interactive tables.';\n",
              "          element.innerHTML = '';\n",
              "          dataTable['output_type'] = 'display_data';\n",
              "          await google.colab.output.renderOutput(dataTable, element);\n",
              "          const docLink = document.createElement('div');\n",
              "          docLink.innerHTML = docLinkHtml;\n",
              "          element.appendChild(docLink);\n",
              "        }\n",
              "      </script>\n",
              "    </div>\n",
              "  </div>\n",
              "  "
            ]
          },
          "metadata": {},
          "execution_count": 2
        }
      ],
      "source": [
        "train_users = pd.read_csv(\"/content/drive/MyDrive/Project/Airbnb New User Bookings/train_users_2.csv\")\n",
        "train_users.head()"
      ]
    },
    {
      "cell_type": "code",
      "execution_count": 3,
      "id": "795710fd",
      "metadata": {
        "id": "795710fd"
      },
      "outputs": [],
      "source": [
        "test_users = pd.read_csv(\"/content/drive/MyDrive/Project/Airbnb New User Bookings/test_users.csv\")"
      ]
    },
    {
      "cell_type": "code",
      "execution_count": 4,
      "id": "b4fa00ad",
      "metadata": {
        "colab": {
          "base_uri": "https://localhost:8080/",
          "height": 206
        },
        "id": "b4fa00ad",
        "outputId": "37af6a88-c835-4dd6-b43a-4f34fafdbac8"
      },
      "outputs": [
        {
          "output_type": "execute_result",
          "data": {
            "text/plain": [
              "  age_bucket country_destination gender  population_in_thousands    year\n",
              "0       100+                  AU   male                      1.0  2015.0\n",
              "1      95-99                  AU   male                      9.0  2015.0\n",
              "2      90-94                  AU   male                     47.0  2015.0\n",
              "3      85-89                  AU   male                    118.0  2015.0\n",
              "4      80-84                  AU   male                    199.0  2015.0"
            ],
            "text/html": [
              "\n",
              "  <div id=\"df-134de141-0eae-4d72-8c4c-6af9f47a8418\">\n",
              "    <div class=\"colab-df-container\">\n",
              "      <div>\n",
              "<style scoped>\n",
              "    .dataframe tbody tr th:only-of-type {\n",
              "        vertical-align: middle;\n",
              "    }\n",
              "\n",
              "    .dataframe tbody tr th {\n",
              "        vertical-align: top;\n",
              "    }\n",
              "\n",
              "    .dataframe thead th {\n",
              "        text-align: right;\n",
              "    }\n",
              "</style>\n",
              "<table border=\"1\" class=\"dataframe\">\n",
              "  <thead>\n",
              "    <tr style=\"text-align: right;\">\n",
              "      <th></th>\n",
              "      <th>age_bucket</th>\n",
              "      <th>country_destination</th>\n",
              "      <th>gender</th>\n",
              "      <th>population_in_thousands</th>\n",
              "      <th>year</th>\n",
              "    </tr>\n",
              "  </thead>\n",
              "  <tbody>\n",
              "    <tr>\n",
              "      <th>0</th>\n",
              "      <td>100+</td>\n",
              "      <td>AU</td>\n",
              "      <td>male</td>\n",
              "      <td>1.0</td>\n",
              "      <td>2015.0</td>\n",
              "    </tr>\n",
              "    <tr>\n",
              "      <th>1</th>\n",
              "      <td>95-99</td>\n",
              "      <td>AU</td>\n",
              "      <td>male</td>\n",
              "      <td>9.0</td>\n",
              "      <td>2015.0</td>\n",
              "    </tr>\n",
              "    <tr>\n",
              "      <th>2</th>\n",
              "      <td>90-94</td>\n",
              "      <td>AU</td>\n",
              "      <td>male</td>\n",
              "      <td>47.0</td>\n",
              "      <td>2015.0</td>\n",
              "    </tr>\n",
              "    <tr>\n",
              "      <th>3</th>\n",
              "      <td>85-89</td>\n",
              "      <td>AU</td>\n",
              "      <td>male</td>\n",
              "      <td>118.0</td>\n",
              "      <td>2015.0</td>\n",
              "    </tr>\n",
              "    <tr>\n",
              "      <th>4</th>\n",
              "      <td>80-84</td>\n",
              "      <td>AU</td>\n",
              "      <td>male</td>\n",
              "      <td>199.0</td>\n",
              "      <td>2015.0</td>\n",
              "    </tr>\n",
              "  </tbody>\n",
              "</table>\n",
              "</div>\n",
              "      <button class=\"colab-df-convert\" onclick=\"convertToInteractive('df-134de141-0eae-4d72-8c4c-6af9f47a8418')\"\n",
              "              title=\"Convert this dataframe to an interactive table.\"\n",
              "              style=\"display:none;\">\n",
              "        \n",
              "  <svg xmlns=\"http://www.w3.org/2000/svg\" height=\"24px\"viewBox=\"0 0 24 24\"\n",
              "       width=\"24px\">\n",
              "    <path d=\"M0 0h24v24H0V0z\" fill=\"none\"/>\n",
              "    <path d=\"M18.56 5.44l.94 2.06.94-2.06 2.06-.94-2.06-.94-.94-2.06-.94 2.06-2.06.94zm-11 1L8.5 8.5l.94-2.06 2.06-.94-2.06-.94L8.5 2.5l-.94 2.06-2.06.94zm10 10l.94 2.06.94-2.06 2.06-.94-2.06-.94-.94-2.06-.94 2.06-2.06.94z\"/><path d=\"M17.41 7.96l-1.37-1.37c-.4-.4-.92-.59-1.43-.59-.52 0-1.04.2-1.43.59L10.3 9.45l-7.72 7.72c-.78.78-.78 2.05 0 2.83L4 21.41c.39.39.9.59 1.41.59.51 0 1.02-.2 1.41-.59l7.78-7.78 2.81-2.81c.8-.78.8-2.07 0-2.86zM5.41 20L4 18.59l7.72-7.72 1.47 1.35L5.41 20z\"/>\n",
              "  </svg>\n",
              "      </button>\n",
              "      \n",
              "  <style>\n",
              "    .colab-df-container {\n",
              "      display:flex;\n",
              "      flex-wrap:wrap;\n",
              "      gap: 12px;\n",
              "    }\n",
              "\n",
              "    .colab-df-convert {\n",
              "      background-color: #E8F0FE;\n",
              "      border: none;\n",
              "      border-radius: 50%;\n",
              "      cursor: pointer;\n",
              "      display: none;\n",
              "      fill: #1967D2;\n",
              "      height: 32px;\n",
              "      padding: 0 0 0 0;\n",
              "      width: 32px;\n",
              "    }\n",
              "\n",
              "    .colab-df-convert:hover {\n",
              "      background-color: #E2EBFA;\n",
              "      box-shadow: 0px 1px 2px rgba(60, 64, 67, 0.3), 0px 1px 3px 1px rgba(60, 64, 67, 0.15);\n",
              "      fill: #174EA6;\n",
              "    }\n",
              "\n",
              "    [theme=dark] .colab-df-convert {\n",
              "      background-color: #3B4455;\n",
              "      fill: #D2E3FC;\n",
              "    }\n",
              "\n",
              "    [theme=dark] .colab-df-convert:hover {\n",
              "      background-color: #434B5C;\n",
              "      box-shadow: 0px 1px 3px 1px rgba(0, 0, 0, 0.15);\n",
              "      filter: drop-shadow(0px 1px 2px rgba(0, 0, 0, 0.3));\n",
              "      fill: #FFFFFF;\n",
              "    }\n",
              "  </style>\n",
              "\n",
              "      <script>\n",
              "        const buttonEl =\n",
              "          document.querySelector('#df-134de141-0eae-4d72-8c4c-6af9f47a8418 button.colab-df-convert');\n",
              "        buttonEl.style.display =\n",
              "          google.colab.kernel.accessAllowed ? 'block' : 'none';\n",
              "\n",
              "        async function convertToInteractive(key) {\n",
              "          const element = document.querySelector('#df-134de141-0eae-4d72-8c4c-6af9f47a8418');\n",
              "          const dataTable =\n",
              "            await google.colab.kernel.invokeFunction('convertToInteractive',\n",
              "                                                     [key], {});\n",
              "          if (!dataTable) return;\n",
              "\n",
              "          const docLinkHtml = 'Like what you see? Visit the ' +\n",
              "            '<a target=\"_blank\" href=https://colab.research.google.com/notebooks/data_table.ipynb>data table notebook</a>'\n",
              "            + ' to learn more about interactive tables.';\n",
              "          element.innerHTML = '';\n",
              "          dataTable['output_type'] = 'display_data';\n",
              "          await google.colab.output.renderOutput(dataTable, element);\n",
              "          const docLink = document.createElement('div');\n",
              "          docLink.innerHTML = docLinkHtml;\n",
              "          element.appendChild(docLink);\n",
              "        }\n",
              "      </script>\n",
              "    </div>\n",
              "  </div>\n",
              "  "
            ]
          },
          "metadata": {},
          "execution_count": 4
        }
      ],
      "source": [
        "age_gender_bkts = pd.read_csv(\"/content/drive/MyDrive/Project/Airbnb New User Bookings/age_gender_bkts.csv\")\n",
        "age_gender_bkts.head()"
      ]
    },
    {
      "cell_type": "code",
      "execution_count": 5,
      "id": "c9e4bf11",
      "metadata": {
        "colab": {
          "base_uri": "https://localhost:8080/",
          "height": 206
        },
        "id": "c9e4bf11",
        "outputId": "1c80e748-c526-475b-9752-6a23e5d40919"
      },
      "outputs": [
        {
          "output_type": "execute_result",
          "data": {
            "text/plain": [
              "      user_id          action action_type        action_detail  \\\n",
              "0  d1mm9tcy42          lookup         NaN                  NaN   \n",
              "1  d1mm9tcy42  search_results       click  view_search_results   \n",
              "2  d1mm9tcy42          lookup         NaN                  NaN   \n",
              "3  d1mm9tcy42  search_results       click  view_search_results   \n",
              "4  d1mm9tcy42          lookup         NaN                  NaN   \n",
              "\n",
              "       device_type  secs_elapsed  \n",
              "0  Windows Desktop         319.0  \n",
              "1  Windows Desktop       67753.0  \n",
              "2  Windows Desktop         301.0  \n",
              "3  Windows Desktop       22141.0  \n",
              "4  Windows Desktop         435.0  "
            ],
            "text/html": [
              "\n",
              "  <div id=\"df-471fda73-557e-4502-aea1-41c9f2544ab5\">\n",
              "    <div class=\"colab-df-container\">\n",
              "      <div>\n",
              "<style scoped>\n",
              "    .dataframe tbody tr th:only-of-type {\n",
              "        vertical-align: middle;\n",
              "    }\n",
              "\n",
              "    .dataframe tbody tr th {\n",
              "        vertical-align: top;\n",
              "    }\n",
              "\n",
              "    .dataframe thead th {\n",
              "        text-align: right;\n",
              "    }\n",
              "</style>\n",
              "<table border=\"1\" class=\"dataframe\">\n",
              "  <thead>\n",
              "    <tr style=\"text-align: right;\">\n",
              "      <th></th>\n",
              "      <th>user_id</th>\n",
              "      <th>action</th>\n",
              "      <th>action_type</th>\n",
              "      <th>action_detail</th>\n",
              "      <th>device_type</th>\n",
              "      <th>secs_elapsed</th>\n",
              "    </tr>\n",
              "  </thead>\n",
              "  <tbody>\n",
              "    <tr>\n",
              "      <th>0</th>\n",
              "      <td>d1mm9tcy42</td>\n",
              "      <td>lookup</td>\n",
              "      <td>NaN</td>\n",
              "      <td>NaN</td>\n",
              "      <td>Windows Desktop</td>\n",
              "      <td>319.0</td>\n",
              "    </tr>\n",
              "    <tr>\n",
              "      <th>1</th>\n",
              "      <td>d1mm9tcy42</td>\n",
              "      <td>search_results</td>\n",
              "      <td>click</td>\n",
              "      <td>view_search_results</td>\n",
              "      <td>Windows Desktop</td>\n",
              "      <td>67753.0</td>\n",
              "    </tr>\n",
              "    <tr>\n",
              "      <th>2</th>\n",
              "      <td>d1mm9tcy42</td>\n",
              "      <td>lookup</td>\n",
              "      <td>NaN</td>\n",
              "      <td>NaN</td>\n",
              "      <td>Windows Desktop</td>\n",
              "      <td>301.0</td>\n",
              "    </tr>\n",
              "    <tr>\n",
              "      <th>3</th>\n",
              "      <td>d1mm9tcy42</td>\n",
              "      <td>search_results</td>\n",
              "      <td>click</td>\n",
              "      <td>view_search_results</td>\n",
              "      <td>Windows Desktop</td>\n",
              "      <td>22141.0</td>\n",
              "    </tr>\n",
              "    <tr>\n",
              "      <th>4</th>\n",
              "      <td>d1mm9tcy42</td>\n",
              "      <td>lookup</td>\n",
              "      <td>NaN</td>\n",
              "      <td>NaN</td>\n",
              "      <td>Windows Desktop</td>\n",
              "      <td>435.0</td>\n",
              "    </tr>\n",
              "  </tbody>\n",
              "</table>\n",
              "</div>\n",
              "      <button class=\"colab-df-convert\" onclick=\"convertToInteractive('df-471fda73-557e-4502-aea1-41c9f2544ab5')\"\n",
              "              title=\"Convert this dataframe to an interactive table.\"\n",
              "              style=\"display:none;\">\n",
              "        \n",
              "  <svg xmlns=\"http://www.w3.org/2000/svg\" height=\"24px\"viewBox=\"0 0 24 24\"\n",
              "       width=\"24px\">\n",
              "    <path d=\"M0 0h24v24H0V0z\" fill=\"none\"/>\n",
              "    <path d=\"M18.56 5.44l.94 2.06.94-2.06 2.06-.94-2.06-.94-.94-2.06-.94 2.06-2.06.94zm-11 1L8.5 8.5l.94-2.06 2.06-.94-2.06-.94L8.5 2.5l-.94 2.06-2.06.94zm10 10l.94 2.06.94-2.06 2.06-.94-2.06-.94-.94-2.06-.94 2.06-2.06.94z\"/><path d=\"M17.41 7.96l-1.37-1.37c-.4-.4-.92-.59-1.43-.59-.52 0-1.04.2-1.43.59L10.3 9.45l-7.72 7.72c-.78.78-.78 2.05 0 2.83L4 21.41c.39.39.9.59 1.41.59.51 0 1.02-.2 1.41-.59l7.78-7.78 2.81-2.81c.8-.78.8-2.07 0-2.86zM5.41 20L4 18.59l7.72-7.72 1.47 1.35L5.41 20z\"/>\n",
              "  </svg>\n",
              "      </button>\n",
              "      \n",
              "  <style>\n",
              "    .colab-df-container {\n",
              "      display:flex;\n",
              "      flex-wrap:wrap;\n",
              "      gap: 12px;\n",
              "    }\n",
              "\n",
              "    .colab-df-convert {\n",
              "      background-color: #E8F0FE;\n",
              "      border: none;\n",
              "      border-radius: 50%;\n",
              "      cursor: pointer;\n",
              "      display: none;\n",
              "      fill: #1967D2;\n",
              "      height: 32px;\n",
              "      padding: 0 0 0 0;\n",
              "      width: 32px;\n",
              "    }\n",
              "\n",
              "    .colab-df-convert:hover {\n",
              "      background-color: #E2EBFA;\n",
              "      box-shadow: 0px 1px 2px rgba(60, 64, 67, 0.3), 0px 1px 3px 1px rgba(60, 64, 67, 0.15);\n",
              "      fill: #174EA6;\n",
              "    }\n",
              "\n",
              "    [theme=dark] .colab-df-convert {\n",
              "      background-color: #3B4455;\n",
              "      fill: #D2E3FC;\n",
              "    }\n",
              "\n",
              "    [theme=dark] .colab-df-convert:hover {\n",
              "      background-color: #434B5C;\n",
              "      box-shadow: 0px 1px 3px 1px rgba(0, 0, 0, 0.15);\n",
              "      filter: drop-shadow(0px 1px 2px rgba(0, 0, 0, 0.3));\n",
              "      fill: #FFFFFF;\n",
              "    }\n",
              "  </style>\n",
              "\n",
              "      <script>\n",
              "        const buttonEl =\n",
              "          document.querySelector('#df-471fda73-557e-4502-aea1-41c9f2544ab5 button.colab-df-convert');\n",
              "        buttonEl.style.display =\n",
              "          google.colab.kernel.accessAllowed ? 'block' : 'none';\n",
              "\n",
              "        async function convertToInteractive(key) {\n",
              "          const element = document.querySelector('#df-471fda73-557e-4502-aea1-41c9f2544ab5');\n",
              "          const dataTable =\n",
              "            await google.colab.kernel.invokeFunction('convertToInteractive',\n",
              "                                                     [key], {});\n",
              "          if (!dataTable) return;\n",
              "\n",
              "          const docLinkHtml = 'Like what you see? Visit the ' +\n",
              "            '<a target=\"_blank\" href=https://colab.research.google.com/notebooks/data_table.ipynb>data table notebook</a>'\n",
              "            + ' to learn more about interactive tables.';\n",
              "          element.innerHTML = '';\n",
              "          dataTable['output_type'] = 'display_data';\n",
              "          await google.colab.output.renderOutput(dataTable, element);\n",
              "          const docLink = document.createElement('div');\n",
              "          docLink.innerHTML = docLinkHtml;\n",
              "          element.appendChild(docLink);\n",
              "        }\n",
              "      </script>\n",
              "    </div>\n",
              "  </div>\n",
              "  "
            ]
          },
          "metadata": {},
          "execution_count": 5
        }
      ],
      "source": [
        "sessions = pd.read_csv(\"/content/drive/MyDrive/Project/Airbnb New User Bookings/sessions.csv\")\n",
        "sessions.head()"
      ]
    },
    {
      "cell_type": "code",
      "execution_count": 6,
      "id": "b1cc2466",
      "metadata": {
        "colab": {
          "base_uri": "https://localhost:8080/",
          "height": 427
        },
        "id": "b1cc2466",
        "outputId": "24148675-6752-4fb1-efe1-366fc3bc0f18"
      },
      "outputs": [
        {
          "output_type": "execute_result",
          "data": {
            "text/plain": [
              "  country_destination  lat_destination  lng_destination  distance_km  \\\n",
              "0                  AU       -26.853388       133.275160   15297.7440   \n",
              "1                  CA        62.393303       -96.818146    2828.1333   \n",
              "2                  DE        51.165707        10.452764    7879.5680   \n",
              "3                  ES        39.896027        -2.487694    7730.7240   \n",
              "4                  FR        46.232193         2.209667    7682.9450   \n",
              "5                  GB        54.633220        -3.432277    6883.6590   \n",
              "6                  IT        41.873990        12.564167    8636.6310   \n",
              "7                  NL        52.133057         5.295250    7524.3203   \n",
              "8                  PT        39.553444        -7.839319    7355.2534   \n",
              "9                  US        36.966427       -95.844030       0.0000   \n",
              "\n",
              "   destination_km2 destination_language   language_levenshtein_distance  \n",
              "0        7741220.0                   eng                           0.00  \n",
              "1        9984670.0                   eng                           0.00  \n",
              "2         357022.0                   deu                          72.61  \n",
              "3         505370.0                   spa                          92.25  \n",
              "4         643801.0                   fra                          92.06  \n",
              "5         243610.0                   eng                           0.00  \n",
              "6         301340.0                   ita                          89.40  \n",
              "7          41543.0                   nld                          63.22  \n",
              "8          92090.0                   por                          95.45  \n",
              "9        9826675.0                   eng                           0.00  "
            ],
            "text/html": [
              "\n",
              "  <div id=\"df-5059d6ef-a2e6-4903-a733-33a4a59a138b\">\n",
              "    <div class=\"colab-df-container\">\n",
              "      <div>\n",
              "<style scoped>\n",
              "    .dataframe tbody tr th:only-of-type {\n",
              "        vertical-align: middle;\n",
              "    }\n",
              "\n",
              "    .dataframe tbody tr th {\n",
              "        vertical-align: top;\n",
              "    }\n",
              "\n",
              "    .dataframe thead th {\n",
              "        text-align: right;\n",
              "    }\n",
              "</style>\n",
              "<table border=\"1\" class=\"dataframe\">\n",
              "  <thead>\n",
              "    <tr style=\"text-align: right;\">\n",
              "      <th></th>\n",
              "      <th>country_destination</th>\n",
              "      <th>lat_destination</th>\n",
              "      <th>lng_destination</th>\n",
              "      <th>distance_km</th>\n",
              "      <th>destination_km2</th>\n",
              "      <th>destination_language</th>\n",
              "      <th>language_levenshtein_distance</th>\n",
              "    </tr>\n",
              "  </thead>\n",
              "  <tbody>\n",
              "    <tr>\n",
              "      <th>0</th>\n",
              "      <td>AU</td>\n",
              "      <td>-26.853388</td>\n",
              "      <td>133.275160</td>\n",
              "      <td>15297.7440</td>\n",
              "      <td>7741220.0</td>\n",
              "      <td>eng</td>\n",
              "      <td>0.00</td>\n",
              "    </tr>\n",
              "    <tr>\n",
              "      <th>1</th>\n",
              "      <td>CA</td>\n",
              "      <td>62.393303</td>\n",
              "      <td>-96.818146</td>\n",
              "      <td>2828.1333</td>\n",
              "      <td>9984670.0</td>\n",
              "      <td>eng</td>\n",
              "      <td>0.00</td>\n",
              "    </tr>\n",
              "    <tr>\n",
              "      <th>2</th>\n",
              "      <td>DE</td>\n",
              "      <td>51.165707</td>\n",
              "      <td>10.452764</td>\n",
              "      <td>7879.5680</td>\n",
              "      <td>357022.0</td>\n",
              "      <td>deu</td>\n",
              "      <td>72.61</td>\n",
              "    </tr>\n",
              "    <tr>\n",
              "      <th>3</th>\n",
              "      <td>ES</td>\n",
              "      <td>39.896027</td>\n",
              "      <td>-2.487694</td>\n",
              "      <td>7730.7240</td>\n",
              "      <td>505370.0</td>\n",
              "      <td>spa</td>\n",
              "      <td>92.25</td>\n",
              "    </tr>\n",
              "    <tr>\n",
              "      <th>4</th>\n",
              "      <td>FR</td>\n",
              "      <td>46.232193</td>\n",
              "      <td>2.209667</td>\n",
              "      <td>7682.9450</td>\n",
              "      <td>643801.0</td>\n",
              "      <td>fra</td>\n",
              "      <td>92.06</td>\n",
              "    </tr>\n",
              "    <tr>\n",
              "      <th>5</th>\n",
              "      <td>GB</td>\n",
              "      <td>54.633220</td>\n",
              "      <td>-3.432277</td>\n",
              "      <td>6883.6590</td>\n",
              "      <td>243610.0</td>\n",
              "      <td>eng</td>\n",
              "      <td>0.00</td>\n",
              "    </tr>\n",
              "    <tr>\n",
              "      <th>6</th>\n",
              "      <td>IT</td>\n",
              "      <td>41.873990</td>\n",
              "      <td>12.564167</td>\n",
              "      <td>8636.6310</td>\n",
              "      <td>301340.0</td>\n",
              "      <td>ita</td>\n",
              "      <td>89.40</td>\n",
              "    </tr>\n",
              "    <tr>\n",
              "      <th>7</th>\n",
              "      <td>NL</td>\n",
              "      <td>52.133057</td>\n",
              "      <td>5.295250</td>\n",
              "      <td>7524.3203</td>\n",
              "      <td>41543.0</td>\n",
              "      <td>nld</td>\n",
              "      <td>63.22</td>\n",
              "    </tr>\n",
              "    <tr>\n",
              "      <th>8</th>\n",
              "      <td>PT</td>\n",
              "      <td>39.553444</td>\n",
              "      <td>-7.839319</td>\n",
              "      <td>7355.2534</td>\n",
              "      <td>92090.0</td>\n",
              "      <td>por</td>\n",
              "      <td>95.45</td>\n",
              "    </tr>\n",
              "    <tr>\n",
              "      <th>9</th>\n",
              "      <td>US</td>\n",
              "      <td>36.966427</td>\n",
              "      <td>-95.844030</td>\n",
              "      <td>0.0000</td>\n",
              "      <td>9826675.0</td>\n",
              "      <td>eng</td>\n",
              "      <td>0.00</td>\n",
              "    </tr>\n",
              "  </tbody>\n",
              "</table>\n",
              "</div>\n",
              "      <button class=\"colab-df-convert\" onclick=\"convertToInteractive('df-5059d6ef-a2e6-4903-a733-33a4a59a138b')\"\n",
              "              title=\"Convert this dataframe to an interactive table.\"\n",
              "              style=\"display:none;\">\n",
              "        \n",
              "  <svg xmlns=\"http://www.w3.org/2000/svg\" height=\"24px\"viewBox=\"0 0 24 24\"\n",
              "       width=\"24px\">\n",
              "    <path d=\"M0 0h24v24H0V0z\" fill=\"none\"/>\n",
              "    <path d=\"M18.56 5.44l.94 2.06.94-2.06 2.06-.94-2.06-.94-.94-2.06-.94 2.06-2.06.94zm-11 1L8.5 8.5l.94-2.06 2.06-.94-2.06-.94L8.5 2.5l-.94 2.06-2.06.94zm10 10l.94 2.06.94-2.06 2.06-.94-2.06-.94-.94-2.06-.94 2.06-2.06.94z\"/><path d=\"M17.41 7.96l-1.37-1.37c-.4-.4-.92-.59-1.43-.59-.52 0-1.04.2-1.43.59L10.3 9.45l-7.72 7.72c-.78.78-.78 2.05 0 2.83L4 21.41c.39.39.9.59 1.41.59.51 0 1.02-.2 1.41-.59l7.78-7.78 2.81-2.81c.8-.78.8-2.07 0-2.86zM5.41 20L4 18.59l7.72-7.72 1.47 1.35L5.41 20z\"/>\n",
              "  </svg>\n",
              "      </button>\n",
              "      \n",
              "  <style>\n",
              "    .colab-df-container {\n",
              "      display:flex;\n",
              "      flex-wrap:wrap;\n",
              "      gap: 12px;\n",
              "    }\n",
              "\n",
              "    .colab-df-convert {\n",
              "      background-color: #E8F0FE;\n",
              "      border: none;\n",
              "      border-radius: 50%;\n",
              "      cursor: pointer;\n",
              "      display: none;\n",
              "      fill: #1967D2;\n",
              "      height: 32px;\n",
              "      padding: 0 0 0 0;\n",
              "      width: 32px;\n",
              "    }\n",
              "\n",
              "    .colab-df-convert:hover {\n",
              "      background-color: #E2EBFA;\n",
              "      box-shadow: 0px 1px 2px rgba(60, 64, 67, 0.3), 0px 1px 3px 1px rgba(60, 64, 67, 0.15);\n",
              "      fill: #174EA6;\n",
              "    }\n",
              "\n",
              "    [theme=dark] .colab-df-convert {\n",
              "      background-color: #3B4455;\n",
              "      fill: #D2E3FC;\n",
              "    }\n",
              "\n",
              "    [theme=dark] .colab-df-convert:hover {\n",
              "      background-color: #434B5C;\n",
              "      box-shadow: 0px 1px 3px 1px rgba(0, 0, 0, 0.15);\n",
              "      filter: drop-shadow(0px 1px 2px rgba(0, 0, 0, 0.3));\n",
              "      fill: #FFFFFF;\n",
              "    }\n",
              "  </style>\n",
              "\n",
              "      <script>\n",
              "        const buttonEl =\n",
              "          document.querySelector('#df-5059d6ef-a2e6-4903-a733-33a4a59a138b button.colab-df-convert');\n",
              "        buttonEl.style.display =\n",
              "          google.colab.kernel.accessAllowed ? 'block' : 'none';\n",
              "\n",
              "        async function convertToInteractive(key) {\n",
              "          const element = document.querySelector('#df-5059d6ef-a2e6-4903-a733-33a4a59a138b');\n",
              "          const dataTable =\n",
              "            await google.colab.kernel.invokeFunction('convertToInteractive',\n",
              "                                                     [key], {});\n",
              "          if (!dataTable) return;\n",
              "\n",
              "          const docLinkHtml = 'Like what you see? Visit the ' +\n",
              "            '<a target=\"_blank\" href=https://colab.research.google.com/notebooks/data_table.ipynb>data table notebook</a>'\n",
              "            + ' to learn more about interactive tables.';\n",
              "          element.innerHTML = '';\n",
              "          dataTable['output_type'] = 'display_data';\n",
              "          await google.colab.output.renderOutput(dataTable, element);\n",
              "          const docLink = document.createElement('div');\n",
              "          docLink.innerHTML = docLinkHtml;\n",
              "          element.appendChild(docLink);\n",
              "        }\n",
              "      </script>\n",
              "    </div>\n",
              "  </div>\n",
              "  "
            ]
          },
          "metadata": {},
          "execution_count": 6
        }
      ],
      "source": [
        "countries = pd.read_csv(\"/content/drive/MyDrive/Project/Airbnb New User Bookings/countries.csv\")\n",
        "countries"
      ]
    },
    {
      "cell_type": "markdown",
      "id": "08bb1c1e",
      "metadata": {
        "id": "08bb1c1e"
      },
      "source": [
        "# Data Explore"
      ]
    },
    {
      "cell_type": "markdown",
      "id": "021e3dd2",
      "metadata": {
        "id": "021e3dd2"
      },
      "source": [
        "## train_users"
      ]
    },
    {
      "cell_type": "code",
      "execution_count": 7,
      "id": "ae415220",
      "metadata": {
        "colab": {
          "base_uri": "https://localhost:8080/",
          "height": 592
        },
        "id": "ae415220",
        "outputId": "677e3d06-5162-42d6-f4f7-18e601abb5e4"
      },
      "outputs": [
        {
          "output_type": "execute_result",
          "data": {
            "text/plain": [
              "                id date_account_created  timestamp_first_active  \\\n",
              "0       gxn3p5htnn           2010-06-28          20090319043255   \n",
              "1       820tgsjxq7           2011-05-25          20090523174809   \n",
              "2       4ft3gnwmtx           2010-09-28          20090609231247   \n",
              "3       bjjt8pjhuk           2011-12-05          20091031060129   \n",
              "4       87mebub9p4           2010-09-14          20091208061105   \n",
              "...            ...                  ...                     ...   \n",
              "213446  zxodksqpep           2014-06-30          20140630235636   \n",
              "213447  mhewnxesx9           2014-06-30          20140630235719   \n",
              "213448  6o3arsjbb4           2014-06-30          20140630235754   \n",
              "213449  jh95kwisub           2014-06-30          20140630235822   \n",
              "213450  nw9fwlyb5f           2014-06-30          20140630235824   \n",
              "\n",
              "       date_first_booking     gender   age signup_method  signup_flow  \\\n",
              "0                     NaN  -unknown-   NaN      facebook            0   \n",
              "1                     NaN       MALE  38.0      facebook            0   \n",
              "2              2010-08-02     FEMALE  56.0         basic            3   \n",
              "3              2012-09-08     FEMALE  42.0      facebook            0   \n",
              "4              2010-02-18  -unknown-  41.0         basic            0   \n",
              "...                   ...        ...   ...           ...          ...   \n",
              "213446                NaN       MALE  32.0         basic            0   \n",
              "213447                NaN  -unknown-   NaN         basic            0   \n",
              "213448                NaN  -unknown-  32.0         basic            0   \n",
              "213449                NaN  -unknown-   NaN         basic           25   \n",
              "213450                NaN  -unknown-   NaN         basic           25   \n",
              "\n",
              "       language affiliate_channel affiliate_provider first_affiliate_tracked  \\\n",
              "0            en            direct             direct               untracked   \n",
              "1            en               seo             google               untracked   \n",
              "2            en            direct             direct               untracked   \n",
              "3            en            direct             direct               untracked   \n",
              "4            en            direct             direct               untracked   \n",
              "...         ...               ...                ...                     ...   \n",
              "213446       en         sem-brand             google                     omg   \n",
              "213447       en            direct             direct                  linked   \n",
              "213448       en            direct             direct               untracked   \n",
              "213449       en             other              other           tracked-other   \n",
              "213450       en            direct             direct               untracked   \n",
              "\n",
              "       signup_app first_device_type  first_browser country_destination  \n",
              "0             Web       Mac Desktop         Chrome                 NDF  \n",
              "1             Web       Mac Desktop         Chrome                 NDF  \n",
              "2             Web   Windows Desktop             IE                  US  \n",
              "3             Web       Mac Desktop        Firefox               other  \n",
              "4             Web       Mac Desktop         Chrome                  US  \n",
              "...           ...               ...            ...                 ...  \n",
              "213446        Web       Mac Desktop         Safari                 NDF  \n",
              "213447        Web   Windows Desktop         Chrome                 NDF  \n",
              "213448        Web       Mac Desktop        Firefox                 NDF  \n",
              "213449        iOS            iPhone  Mobile Safari                 NDF  \n",
              "213450        iOS            iPhone      -unknown-                 NDF  \n",
              "\n",
              "[213451 rows x 16 columns]"
            ],
            "text/html": [
              "\n",
              "  <div id=\"df-3e818abb-375e-40c1-aaa0-1d53d21ffbc7\">\n",
              "    <div class=\"colab-df-container\">\n",
              "      <div>\n",
              "<style scoped>\n",
              "    .dataframe tbody tr th:only-of-type {\n",
              "        vertical-align: middle;\n",
              "    }\n",
              "\n",
              "    .dataframe tbody tr th {\n",
              "        vertical-align: top;\n",
              "    }\n",
              "\n",
              "    .dataframe thead th {\n",
              "        text-align: right;\n",
              "    }\n",
              "</style>\n",
              "<table border=\"1\" class=\"dataframe\">\n",
              "  <thead>\n",
              "    <tr style=\"text-align: right;\">\n",
              "      <th></th>\n",
              "      <th>id</th>\n",
              "      <th>date_account_created</th>\n",
              "      <th>timestamp_first_active</th>\n",
              "      <th>date_first_booking</th>\n",
              "      <th>gender</th>\n",
              "      <th>age</th>\n",
              "      <th>signup_method</th>\n",
              "      <th>signup_flow</th>\n",
              "      <th>language</th>\n",
              "      <th>affiliate_channel</th>\n",
              "      <th>affiliate_provider</th>\n",
              "      <th>first_affiliate_tracked</th>\n",
              "      <th>signup_app</th>\n",
              "      <th>first_device_type</th>\n",
              "      <th>first_browser</th>\n",
              "      <th>country_destination</th>\n",
              "    </tr>\n",
              "  </thead>\n",
              "  <tbody>\n",
              "    <tr>\n",
              "      <th>0</th>\n",
              "      <td>gxn3p5htnn</td>\n",
              "      <td>2010-06-28</td>\n",
              "      <td>20090319043255</td>\n",
              "      <td>NaN</td>\n",
              "      <td>-unknown-</td>\n",
              "      <td>NaN</td>\n",
              "      <td>facebook</td>\n",
              "      <td>0</td>\n",
              "      <td>en</td>\n",
              "      <td>direct</td>\n",
              "      <td>direct</td>\n",
              "      <td>untracked</td>\n",
              "      <td>Web</td>\n",
              "      <td>Mac Desktop</td>\n",
              "      <td>Chrome</td>\n",
              "      <td>NDF</td>\n",
              "    </tr>\n",
              "    <tr>\n",
              "      <th>1</th>\n",
              "      <td>820tgsjxq7</td>\n",
              "      <td>2011-05-25</td>\n",
              "      <td>20090523174809</td>\n",
              "      <td>NaN</td>\n",
              "      <td>MALE</td>\n",
              "      <td>38.0</td>\n",
              "      <td>facebook</td>\n",
              "      <td>0</td>\n",
              "      <td>en</td>\n",
              "      <td>seo</td>\n",
              "      <td>google</td>\n",
              "      <td>untracked</td>\n",
              "      <td>Web</td>\n",
              "      <td>Mac Desktop</td>\n",
              "      <td>Chrome</td>\n",
              "      <td>NDF</td>\n",
              "    </tr>\n",
              "    <tr>\n",
              "      <th>2</th>\n",
              "      <td>4ft3gnwmtx</td>\n",
              "      <td>2010-09-28</td>\n",
              "      <td>20090609231247</td>\n",
              "      <td>2010-08-02</td>\n",
              "      <td>FEMALE</td>\n",
              "      <td>56.0</td>\n",
              "      <td>basic</td>\n",
              "      <td>3</td>\n",
              "      <td>en</td>\n",
              "      <td>direct</td>\n",
              "      <td>direct</td>\n",
              "      <td>untracked</td>\n",
              "      <td>Web</td>\n",
              "      <td>Windows Desktop</td>\n",
              "      <td>IE</td>\n",
              "      <td>US</td>\n",
              "    </tr>\n",
              "    <tr>\n",
              "      <th>3</th>\n",
              "      <td>bjjt8pjhuk</td>\n",
              "      <td>2011-12-05</td>\n",
              "      <td>20091031060129</td>\n",
              "      <td>2012-09-08</td>\n",
              "      <td>FEMALE</td>\n",
              "      <td>42.0</td>\n",
              "      <td>facebook</td>\n",
              "      <td>0</td>\n",
              "      <td>en</td>\n",
              "      <td>direct</td>\n",
              "      <td>direct</td>\n",
              "      <td>untracked</td>\n",
              "      <td>Web</td>\n",
              "      <td>Mac Desktop</td>\n",
              "      <td>Firefox</td>\n",
              "      <td>other</td>\n",
              "    </tr>\n",
              "    <tr>\n",
              "      <th>4</th>\n",
              "      <td>87mebub9p4</td>\n",
              "      <td>2010-09-14</td>\n",
              "      <td>20091208061105</td>\n",
              "      <td>2010-02-18</td>\n",
              "      <td>-unknown-</td>\n",
              "      <td>41.0</td>\n",
              "      <td>basic</td>\n",
              "      <td>0</td>\n",
              "      <td>en</td>\n",
              "      <td>direct</td>\n",
              "      <td>direct</td>\n",
              "      <td>untracked</td>\n",
              "      <td>Web</td>\n",
              "      <td>Mac Desktop</td>\n",
              "      <td>Chrome</td>\n",
              "      <td>US</td>\n",
              "    </tr>\n",
              "    <tr>\n",
              "      <th>...</th>\n",
              "      <td>...</td>\n",
              "      <td>...</td>\n",
              "      <td>...</td>\n",
              "      <td>...</td>\n",
              "      <td>...</td>\n",
              "      <td>...</td>\n",
              "      <td>...</td>\n",
              "      <td>...</td>\n",
              "      <td>...</td>\n",
              "      <td>...</td>\n",
              "      <td>...</td>\n",
              "      <td>...</td>\n",
              "      <td>...</td>\n",
              "      <td>...</td>\n",
              "      <td>...</td>\n",
              "      <td>...</td>\n",
              "    </tr>\n",
              "    <tr>\n",
              "      <th>213446</th>\n",
              "      <td>zxodksqpep</td>\n",
              "      <td>2014-06-30</td>\n",
              "      <td>20140630235636</td>\n",
              "      <td>NaN</td>\n",
              "      <td>MALE</td>\n",
              "      <td>32.0</td>\n",
              "      <td>basic</td>\n",
              "      <td>0</td>\n",
              "      <td>en</td>\n",
              "      <td>sem-brand</td>\n",
              "      <td>google</td>\n",
              "      <td>omg</td>\n",
              "      <td>Web</td>\n",
              "      <td>Mac Desktop</td>\n",
              "      <td>Safari</td>\n",
              "      <td>NDF</td>\n",
              "    </tr>\n",
              "    <tr>\n",
              "      <th>213447</th>\n",
              "      <td>mhewnxesx9</td>\n",
              "      <td>2014-06-30</td>\n",
              "      <td>20140630235719</td>\n",
              "      <td>NaN</td>\n",
              "      <td>-unknown-</td>\n",
              "      <td>NaN</td>\n",
              "      <td>basic</td>\n",
              "      <td>0</td>\n",
              "      <td>en</td>\n",
              "      <td>direct</td>\n",
              "      <td>direct</td>\n",
              "      <td>linked</td>\n",
              "      <td>Web</td>\n",
              "      <td>Windows Desktop</td>\n",
              "      <td>Chrome</td>\n",
              "      <td>NDF</td>\n",
              "    </tr>\n",
              "    <tr>\n",
              "      <th>213448</th>\n",
              "      <td>6o3arsjbb4</td>\n",
              "      <td>2014-06-30</td>\n",
              "      <td>20140630235754</td>\n",
              "      <td>NaN</td>\n",
              "      <td>-unknown-</td>\n",
              "      <td>32.0</td>\n",
              "      <td>basic</td>\n",
              "      <td>0</td>\n",
              "      <td>en</td>\n",
              "      <td>direct</td>\n",
              "      <td>direct</td>\n",
              "      <td>untracked</td>\n",
              "      <td>Web</td>\n",
              "      <td>Mac Desktop</td>\n",
              "      <td>Firefox</td>\n",
              "      <td>NDF</td>\n",
              "    </tr>\n",
              "    <tr>\n",
              "      <th>213449</th>\n",
              "      <td>jh95kwisub</td>\n",
              "      <td>2014-06-30</td>\n",
              "      <td>20140630235822</td>\n",
              "      <td>NaN</td>\n",
              "      <td>-unknown-</td>\n",
              "      <td>NaN</td>\n",
              "      <td>basic</td>\n",
              "      <td>25</td>\n",
              "      <td>en</td>\n",
              "      <td>other</td>\n",
              "      <td>other</td>\n",
              "      <td>tracked-other</td>\n",
              "      <td>iOS</td>\n",
              "      <td>iPhone</td>\n",
              "      <td>Mobile Safari</td>\n",
              "      <td>NDF</td>\n",
              "    </tr>\n",
              "    <tr>\n",
              "      <th>213450</th>\n",
              "      <td>nw9fwlyb5f</td>\n",
              "      <td>2014-06-30</td>\n",
              "      <td>20140630235824</td>\n",
              "      <td>NaN</td>\n",
              "      <td>-unknown-</td>\n",
              "      <td>NaN</td>\n",
              "      <td>basic</td>\n",
              "      <td>25</td>\n",
              "      <td>en</td>\n",
              "      <td>direct</td>\n",
              "      <td>direct</td>\n",
              "      <td>untracked</td>\n",
              "      <td>iOS</td>\n",
              "      <td>iPhone</td>\n",
              "      <td>-unknown-</td>\n",
              "      <td>NDF</td>\n",
              "    </tr>\n",
              "  </tbody>\n",
              "</table>\n",
              "<p>213451 rows × 16 columns</p>\n",
              "</div>\n",
              "      <button class=\"colab-df-convert\" onclick=\"convertToInteractive('df-3e818abb-375e-40c1-aaa0-1d53d21ffbc7')\"\n",
              "              title=\"Convert this dataframe to an interactive table.\"\n",
              "              style=\"display:none;\">\n",
              "        \n",
              "  <svg xmlns=\"http://www.w3.org/2000/svg\" height=\"24px\"viewBox=\"0 0 24 24\"\n",
              "       width=\"24px\">\n",
              "    <path d=\"M0 0h24v24H0V0z\" fill=\"none\"/>\n",
              "    <path d=\"M18.56 5.44l.94 2.06.94-2.06 2.06-.94-2.06-.94-.94-2.06-.94 2.06-2.06.94zm-11 1L8.5 8.5l.94-2.06 2.06-.94-2.06-.94L8.5 2.5l-.94 2.06-2.06.94zm10 10l.94 2.06.94-2.06 2.06-.94-2.06-.94-.94-2.06-.94 2.06-2.06.94z\"/><path d=\"M17.41 7.96l-1.37-1.37c-.4-.4-.92-.59-1.43-.59-.52 0-1.04.2-1.43.59L10.3 9.45l-7.72 7.72c-.78.78-.78 2.05 0 2.83L4 21.41c.39.39.9.59 1.41.59.51 0 1.02-.2 1.41-.59l7.78-7.78 2.81-2.81c.8-.78.8-2.07 0-2.86zM5.41 20L4 18.59l7.72-7.72 1.47 1.35L5.41 20z\"/>\n",
              "  </svg>\n",
              "      </button>\n",
              "      \n",
              "  <style>\n",
              "    .colab-df-container {\n",
              "      display:flex;\n",
              "      flex-wrap:wrap;\n",
              "      gap: 12px;\n",
              "    }\n",
              "\n",
              "    .colab-df-convert {\n",
              "      background-color: #E8F0FE;\n",
              "      border: none;\n",
              "      border-radius: 50%;\n",
              "      cursor: pointer;\n",
              "      display: none;\n",
              "      fill: #1967D2;\n",
              "      height: 32px;\n",
              "      padding: 0 0 0 0;\n",
              "      width: 32px;\n",
              "    }\n",
              "\n",
              "    .colab-df-convert:hover {\n",
              "      background-color: #E2EBFA;\n",
              "      box-shadow: 0px 1px 2px rgba(60, 64, 67, 0.3), 0px 1px 3px 1px rgba(60, 64, 67, 0.15);\n",
              "      fill: #174EA6;\n",
              "    }\n",
              "\n",
              "    [theme=dark] .colab-df-convert {\n",
              "      background-color: #3B4455;\n",
              "      fill: #D2E3FC;\n",
              "    }\n",
              "\n",
              "    [theme=dark] .colab-df-convert:hover {\n",
              "      background-color: #434B5C;\n",
              "      box-shadow: 0px 1px 3px 1px rgba(0, 0, 0, 0.15);\n",
              "      filter: drop-shadow(0px 1px 2px rgba(0, 0, 0, 0.3));\n",
              "      fill: #FFFFFF;\n",
              "    }\n",
              "  </style>\n",
              "\n",
              "      <script>\n",
              "        const buttonEl =\n",
              "          document.querySelector('#df-3e818abb-375e-40c1-aaa0-1d53d21ffbc7 button.colab-df-convert');\n",
              "        buttonEl.style.display =\n",
              "          google.colab.kernel.accessAllowed ? 'block' : 'none';\n",
              "\n",
              "        async function convertToInteractive(key) {\n",
              "          const element = document.querySelector('#df-3e818abb-375e-40c1-aaa0-1d53d21ffbc7');\n",
              "          const dataTable =\n",
              "            await google.colab.kernel.invokeFunction('convertToInteractive',\n",
              "                                                     [key], {});\n",
              "          if (!dataTable) return;\n",
              "\n",
              "          const docLinkHtml = 'Like what you see? Visit the ' +\n",
              "            '<a target=\"_blank\" href=https://colab.research.google.com/notebooks/data_table.ipynb>data table notebook</a>'\n",
              "            + ' to learn more about interactive tables.';\n",
              "          element.innerHTML = '';\n",
              "          dataTable['output_type'] = 'display_data';\n",
              "          await google.colab.output.renderOutput(dataTable, element);\n",
              "          const docLink = document.createElement('div');\n",
              "          docLink.innerHTML = docLinkHtml;\n",
              "          element.appendChild(docLink);\n",
              "        }\n",
              "      </script>\n",
              "    </div>\n",
              "  </div>\n",
              "  "
            ]
          },
          "metadata": {},
          "execution_count": 7
        }
      ],
      "source": [
        "train_users"
      ]
    },
    {
      "cell_type": "markdown",
      "id": "d436f42c",
      "metadata": {
        "id": "d436f42c"
      },
      "source": [
        "### Summary"
      ]
    },
    {
      "cell_type": "code",
      "execution_count": 8,
      "id": "3f8558f6",
      "metadata": {
        "colab": {
          "base_uri": "https://localhost:8080/"
        },
        "id": "3f8558f6",
        "outputId": "1aae48f9-a725-4f7b-82d0-3b819cd70acd"
      },
      "outputs": [
        {
          "output_type": "stream",
          "name": "stdout",
          "text": [
            "<class 'pandas.core.frame.DataFrame'>\n",
            "RangeIndex: 213451 entries, 0 to 213450\n",
            "Data columns (total 16 columns):\n",
            " #   Column                   Non-Null Count   Dtype  \n",
            "---  ------                   --------------   -----  \n",
            " 0   id                       213451 non-null  object \n",
            " 1   date_account_created     213451 non-null  object \n",
            " 2   timestamp_first_active   213451 non-null  int64  \n",
            " 3   date_first_booking       88908 non-null   object \n",
            " 4   gender                   213451 non-null  object \n",
            " 5   age                      125461 non-null  float64\n",
            " 6   signup_method            213451 non-null  object \n",
            " 7   signup_flow              213451 non-null  int64  \n",
            " 8   language                 213451 non-null  object \n",
            " 9   affiliate_channel        213451 non-null  object \n",
            " 10  affiliate_provider       213451 non-null  object \n",
            " 11  first_affiliate_tracked  207386 non-null  object \n",
            " 12  signup_app               213451 non-null  object \n",
            " 13  first_device_type        213451 non-null  object \n",
            " 14  first_browser            213451 non-null  object \n",
            " 15  country_destination      213451 non-null  object \n",
            "dtypes: float64(1), int64(2), object(13)\n",
            "memory usage: 26.1+ MB\n"
          ]
        }
      ],
      "source": [
        "#summary of dataset\n",
        "train_users.info()"
      ]
    },
    {
      "cell_type": "markdown",
      "id": "4beb0f47",
      "metadata": {
        "id": "4beb0f47"
      },
      "source": [
        "### Missing value"
      ]
    },
    {
      "cell_type": "code",
      "execution_count": 9,
      "id": "b1d5925b",
      "metadata": {
        "scrolled": true,
        "colab": {
          "base_uri": "https://localhost:8080/"
        },
        "id": "b1d5925b",
        "outputId": "76eec83f-4b9a-45ab-a164-499771fe5c59"
      },
      "outputs": [
        {
          "output_type": "execute_result",
          "data": {
            "text/plain": [
              "id                         0.000000\n",
              "date_account_created       0.000000\n",
              "timestamp_first_active     0.000000\n",
              "date_first_booking         0.583473\n",
              "gender                     0.000000\n",
              "age                        0.412226\n",
              "signup_method              0.000000\n",
              "signup_flow                0.000000\n",
              "language                   0.000000\n",
              "affiliate_channel          0.000000\n",
              "affiliate_provider         0.000000\n",
              "first_affiliate_tracked    0.028414\n",
              "signup_app                 0.000000\n",
              "first_device_type          0.000000\n",
              "first_browser              0.000000\n",
              "country_destination        0.000000\n",
              "dtype: float64"
            ]
          },
          "metadata": {},
          "execution_count": 9
        }
      ],
      "source": [
        "#percent of non-missing value\n",
        "train_users.isna().mean()"
      ]
    },
    {
      "cell_type": "code",
      "execution_count": 10,
      "id": "58e6ec05",
      "metadata": {
        "colab": {
          "base_uri": "https://localhost:8080/"
        },
        "id": "58e6ec05",
        "outputId": "096e5c26-c1b3-417d-83fe-c5a904c198f9"
      },
      "outputs": [
        {
          "output_type": "execute_result",
          "data": {
            "text/plain": [
              "Series([], Name: date_first_booking, dtype: int64)"
            ]
          },
          "metadata": {},
          "execution_count": 10
        }
      ],
      "source": [
        "#test whether all missing values of \"date_first_booking\" comes from that the users have not booked yet\n",
        "train_users[train_users[\"country_destination\"] == \"NDF\"][\"date_first_booking\"].value_counts()"
      ]
    },
    {
      "cell_type": "markdown",
      "id": "895f5187",
      "metadata": {
        "id": "895f5187"
      },
      "source": [
        "From the result, we can conclude that all missing values of \"date_first_booking\" comes from that the users have not booked yet."
      ]
    },
    {
      "cell_type": "code",
      "execution_count": 11,
      "id": "4aaa63f5",
      "metadata": {
        "colab": {
          "base_uri": "https://localhost:8080/"
        },
        "id": "4aaa63f5",
        "outputId": "52f31a5a-c25a-4c73-8726-0c4f38b3c23c"
      },
      "outputs": [
        {
          "output_type": "execute_result",
          "data": {
            "text/plain": [
              "untracked        109232\n",
              "linked            46287\n",
              "omg               43982\n",
              "tracked-other      6156\n",
              "product            1556\n",
              "marketing           139\n",
              "local ops            34\n",
              "Name: first_affiliate_tracked, dtype: int64"
            ]
          },
          "metadata": {},
          "execution_count": 11
        }
      ],
      "source": [
        "train_users[\"first_affiliate_tracked\"].value_counts()"
      ]
    },
    {
      "cell_type": "markdown",
      "id": "350eec1d",
      "metadata": {
        "id": "350eec1d"
      },
      "source": [
        "As the percent of missing value in \"first_affiliate_tracked\" is not high, we can fill them by \"untracked\"."
      ]
    },
    {
      "cell_type": "code",
      "execution_count": 12,
      "id": "43ea9dea",
      "metadata": {
        "id": "43ea9dea"
      },
      "outputs": [],
      "source": [
        "train_users[\"first_affiliate_tracked\"] = train_users[\"first_affiliate_tracked\"].fillna(\"untracked\")"
      ]
    },
    {
      "cell_type": "markdown",
      "id": "b38158bd",
      "metadata": {
        "id": "b38158bd"
      },
      "source": [
        "Regarding \"age\", still do not find a way to deal with missing values."
      ]
    },
    {
      "cell_type": "markdown",
      "id": "2194e47c",
      "metadata": {
        "id": "2194e47c"
      },
      "source": [
        "### Data type transform"
      ]
    },
    {
      "cell_type": "code",
      "execution_count": 13,
      "id": "2d4774df",
      "metadata": {
        "id": "2d4774df"
      },
      "outputs": [],
      "source": [
        "train_users[\"date_account_created\"] = pd.to_datetime(train_users[\"date_account_created\"])\n",
        "train_users[\"date_first_booking\"] = pd.to_datetime(train_users[\"date_first_booking\"])"
      ]
    },
    {
      "cell_type": "code",
      "execution_count": 14,
      "id": "693bf520",
      "metadata": {
        "id": "693bf520"
      },
      "outputs": [],
      "source": [
        "train_users[\"timestamp_first_active\"] = pd.to_datetime(train_users[\"timestamp_first_active\"].astype(\"str\"))"
      ]
    },
    {
      "cell_type": "code",
      "execution_count": 15,
      "id": "6de941d2",
      "metadata": {
        "id": "6de941d2"
      },
      "outputs": [],
      "source": [
        "train_users[\"timestamp_first_active\"] = pd.to_datetime(train_users[\"timestamp_first_active\"].dt.date)"
      ]
    },
    {
      "cell_type": "markdown",
      "id": "d4ac9ee0",
      "metadata": {
        "id": "d4ac9ee0"
      },
      "source": [
        "### Visualization"
      ]
    },
    {
      "cell_type": "markdown",
      "id": "89108335",
      "metadata": {
        "id": "89108335"
      },
      "source": [
        "#### Time - Lineplot"
      ]
    },
    {
      "cell_type": "code",
      "execution_count": 16,
      "id": "20874166",
      "metadata": {
        "colab": {
          "base_uri": "https://localhost:8080/",
          "height": 812
        },
        "id": "20874166",
        "outputId": "68f23ae1-639e-4ce4-9067-859bb5bd4577"
      },
      "outputs": [
        {
          "output_type": "execute_result",
          "data": {
            "text/plain": [
              "<matplotlib.axes._subplots.AxesSubplot at 0x7f9bdc7c4790>"
            ]
          },
          "metadata": {},
          "execution_count": 16
        },
        {
          "output_type": "display_data",
          "data": {
            "text/plain": [
              "<Figure size 864x1080 with 3 Axes>"
            ],
            "image/png": "[encoded data removed]"
          },
          "metadata": {
            "needs_background": "light"
          }
        }
      ],
      "source": [
        "f = plt.figure(figsize=(12,15))\n",
        "f.add_subplot(3,1,1)\n",
        "train_users[\"date_account_created\"].value_counts().plot(kind=\"line\")\n",
        "f.add_subplot(3,1,2)\n",
        "train_users[\"timestamp_first_active\"].value_counts().plot(kind=\"line\")\n",
        "f.add_subplot(3,1,3)\n",
        "train_users[\"date_first_booking\"].value_counts().plot(kind=\"line\")"
      ]
    },
    {
      "cell_type": "markdown",
      "id": "f8ef496a",
      "metadata": {
        "id": "f8ef496a"
      },
      "source": [
        "#### Gender"
      ]
    },
    {
      "cell_type": "code",
      "execution_count": 17,
      "id": "bbff6dbb",
      "metadata": {
        "colab": {
          "base_uri": "https://localhost:8080/",
          "height": 410
        },
        "id": "bbff6dbb",
        "outputId": "c0e213a1-fa27-4949-ef2d-80aa0a5b83ef"
      },
      "outputs": [
        {
          "output_type": "execute_result",
          "data": {
            "text/plain": [
              "<matplotlib.axes._subplots.AxesSubplot at 0x7f9bdcc4a610>"
            ]
          },
          "metadata": {},
          "execution_count": 17
        },
        {
          "output_type": "display_data",
          "data": {
            "text/plain": [
              "<Figure size 864x432 with 1 Axes>"
            ],
            "image/png": "[encoded data removed]"
          },
          "metadata": {
            "needs_background": "light"
          }
        }
      ],
      "source": [
        "f = plt.figure(figsize=(12,6))\n",
        "sns.countplot(data=train_users, x=\"country_destination\", hue=\"gender\")"
      ]
    },
    {
      "cell_type": "markdown",
      "id": "683cedb8",
      "metadata": {
        "id": "683cedb8"
      },
      "source": [
        "#### Age"
      ]
    },
    {
      "cell_type": "code",
      "execution_count": 18,
      "id": "5c075d7e",
      "metadata": {
        "id": "5c075d7e"
      },
      "outputs": [],
      "source": [
        "data = train_users[-train_users[\"age\"].isna()]\n",
        "data = data[data[\"age\"] <= 100]"
      ]
    },
    {
      "cell_type": "code",
      "execution_count": 19,
      "id": "e15e75b8",
      "metadata": {
        "colab": {
          "base_uri": "https://localhost:8080/",
          "height": 406
        },
        "id": "e15e75b8",
        "outputId": "2fbc834f-6062-4f1a-d2ba-75527fdd2dcc"
      },
      "outputs": [
        {
          "output_type": "execute_result",
          "data": {
            "text/plain": [
              "<matplotlib.axes._subplots.AxesSubplot at 0x7f9bdcc53410>"
            ]
          },
          "metadata": {},
          "execution_count": 19
        },
        {
          "output_type": "display_data",
          "data": {
            "text/plain": [
              "<Figure size 864x432 with 1 Axes>"
            ],
            "image/png": "[encoded data removed]"
          },
          "metadata": {
            "needs_background": "light"
          }
        }
      ],
      "source": [
        "f = plt.figure(figsize=(12,6))\n",
        "sns.boxplot(data=data, x=\"country_destination\", y=\"age\")"
      ]
    },
    {
      "cell_type": "markdown",
      "id": "30ac8311",
      "metadata": {
        "id": "30ac8311"
      },
      "source": [
        "#### Others"
      ]
    },
    {
      "cell_type": "code",
      "execution_count": 20,
      "id": "f71927c4",
      "metadata": {
        "colab": {
          "base_uri": "https://localhost:8080/",
          "height": 1000
        },
        "id": "f71927c4",
        "outputId": "84fb7b00-b22e-4048-e350-3d4e25e2b8ca"
      },
      "outputs": [
        {
          "output_type": "display_data",
          "data": {
            "text/plain": [
              "<Figure size 864x432 with 1 Axes>"
            ],
            "image/png": "[encoded data removed]"
          },
          "metadata": {
            "needs_background": "light"
          }
        },
        {
          "output_type": "display_data",
          "data": {
            "text/plain": [
              "<Figure size 864x432 with 1 Axes>"
            ],
            "image/png": "[encoded data removed]"
          },
          "metadata": {
            "needs_background": "light"
          }
        },
        {
          "output_type": "display_data",
          "data": {
            "text/plain": [
              "<Figure size 864x432 with 1 Axes>"
            ],
            "image/png": "[encoded data removed]"
          },
          "metadata": {
            "needs_background": "light"
          }
        },
        {
          "output_type": "display_data",
          "data": {
            "text/plain": [
              "<Figure size 864x432 with 1 Axes>"
            ],
            "image/png": "[encoded data removed]"
          },
          "metadata": {
            "needs_background": "light"
          }
        },
        {
          "output_type": "display_data",
          "data": {
            "text/plain": [
              "<Figure size 864x432 with 1 Axes>"
            ],
            "image/png": "[encoded data removed]"
          },
          "metadata": {
            "needs_background": "light"
          }
        },
        {
          "output_type": "display_data",
          "data": {
            "text/plain": [
              "<Figure size 864x432 with 1 Axes>"
            ],
            "image/png": "[encoded data removed]"
          },
          "metadata": {
            "needs_background": "light"
          }
        },
        {
          "output_type": "display_data",
          "data": {
            "text/plain": [
              "<Figure size 864x432 with 1 Axes>"
            ],
            "image/png": "[encoded data removed]"
          },
          "metadata": {
            "needs_background": "light"
          }
        },
        {
          "output_type": "display_data",
          "data": {
            "text/plain": [
              "<Figure size 864x432 with 1 Axes>"
            ],
            "image/png": "[encoded data removed]"
          },
          "metadata": {
            "needs_background": "light"
          }
        },
        {
          "output_type": "display_data",
          "data": {
            "text/plain": [
              "<Figure size 864x432 with 1 Axes>"
            ],
            "image/png": "[encoded data removed]"
          },
          "metadata": {
            "needs_background": "light"
          }
        }
      ],
      "source": [
        "others = ['signup_method', 'signup_flow',\n",
        "       'language', 'affiliate_channel', 'affiliate_provider',\n",
        "       'first_affiliate_tracked', 'signup_app', 'first_device_type',\n",
        "       'first_browser']\n",
        "\n",
        "for feature in others:\n",
        "    f = plt.figure(figsize=(12,6))\n",
        "    sns.countplot(data=train_users, x=\"country_destination\", hue=feature)"
      ]
    },
    {
      "cell_type": "markdown",
      "id": "543eab58",
      "metadata": {
        "id": "543eab58"
      },
      "source": [
        "## age_gender_bkts"
      ]
    },
    {
      "cell_type": "markdown",
      "id": "e1b1d2f8",
      "metadata": {
        "id": "e1b1d2f8"
      },
      "source": [
        "### Summary"
      ]
    },
    {
      "cell_type": "code",
      "execution_count": 21,
      "id": "032e1a51",
      "metadata": {
        "colab": {
          "base_uri": "https://localhost:8080/"
        },
        "id": "032e1a51",
        "outputId": "b3f238fb-758e-40aa-da83-b51563299568"
      },
      "outputs": [
        {
          "output_type": "stream",
          "name": "stdout",
          "text": [
            "<class 'pandas.core.frame.DataFrame'>\n",
            "RangeIndex: 420 entries, 0 to 419\n",
            "Data columns (total 5 columns):\n",
            " #   Column                   Non-Null Count  Dtype  \n",
            "---  ------                   --------------  -----  \n",
            " 0   age_bucket               420 non-null    object \n",
            " 1   country_destination      420 non-null    object \n",
            " 2   gender                   420 non-null    object \n",
            " 3   population_in_thousands  420 non-null    float64\n",
            " 4   year                     420 non-null    float64\n",
            "dtypes: float64(2), object(3)\n",
            "memory usage: 16.5+ KB\n"
          ]
        }
      ],
      "source": [
        "age_gender_bkts.info()"
      ]
    },
    {
      "cell_type": "markdown",
      "id": "84647d3a",
      "metadata": {
        "id": "84647d3a"
      },
      "source": [
        "### Visualiazation"
      ]
    },
    {
      "cell_type": "code",
      "execution_count": 22,
      "id": "33793073",
      "metadata": {
        "scrolled": false,
        "colab": {
          "base_uri": "https://localhost:8080/",
          "height": 1000
        },
        "id": "33793073",
        "outputId": "a81368bc-abcb-47fd-a2d1-d1a6276fedb5"
      },
      "outputs": [
        {
          "output_type": "display_data",
          "data": {
            "text/plain": [
              "<Figure size 1080x360 with 1 Axes>"
            ],
            "image/png": "[encoded data removed]"
          },
          "metadata": {
            "needs_background": "light"
          }
        },
        {
          "output_type": "display_data",
          "data": {
            "text/plain": [
              "<Figure size 1080x360 with 1 Axes>"
            ],
            "image/png": "[encoded data removed]"
          },
          "metadata": {
            "needs_background": "light"
          }
        },
        {
          "output_type": "display_data",
          "data": {
            "text/plain": [
              "<Figure size 1080x360 with 1 Axes>"
            ],
            "image/png": "[encoded data removed]"
          },
          "metadata": {
            "needs_background": "light"
          }
        },
        {
          "output_type": "display_data",
          "data": {
            "text/plain": [
              "<Figure size 1080x360 with 1 Axes>"
            ],
            "image/png": "[encoded data removed]"
          },
          "metadata": {
            "needs_background": "light"
          }
        },
        {
          "output_type": "display_data",
          "data": {
            "text/plain": [
              "<Figure size 1080x360 with 1 Axes>"
            ],
            "image/png": "[encoded data removed]"
          },
          "metadata": {
            "needs_background": "light"
          }
        },
        {
          "output_type": "display_data",
          "data": {
            "text/plain": [
              "<Figure size 1080x360 with 1 Axes>"
            ],
            "image/png": "[encoded data removed]"
          },
          "metadata": {
            "needs_background": "light"
          }
        },
        {
          "output_type": "display_data",
          "data": {
            "text/plain": [
              "<Figure size 1080x360 with 1 Axes>"
            ],
            "image/png": "[encoded data removed]"
          },
          "metadata": {
            "needs_background": "light"
          }
        },
        {
          "output_type": "display_data",
          "data": {
            "text/plain": [
              "<Figure size 1080x360 with 1 Axes>"
            ],
            "image/png": "[encoded data removed]"
          },
          "metadata": {
            "needs_background": "light"
          }
        },
        {
          "output_type": "display_data",
          "data": {
            "text/plain": [
              "<Figure size 1080x360 with 1 Axes>"
            ],
            "image/png": "[encoded data removed]"
          },
          "metadata": {
            "needs_background": "light"
          }
        },
        {
          "output_type": "display_data",
          "data": {
            "text/plain": [
              "<Figure size 1080x360 with 1 Axes>"
            ],
            "image/png": "[encoded data removed]"
          },
          "metadata": {
            "needs_background": "light"
          }
        }
      ],
      "source": [
        "for contr in age_gender_bkts[\"country_destination\"].unique():\n",
        "    data = age_gender_bkts[age_gender_bkts[\"country_destination\"]==contr]\n",
        "    f = plt.figure(figsize=(15, 5))\n",
        "    f.add_subplot(1,1,1)\n",
        "    sns.barplot(data=data, x=\"age_bucket\", y=\"population_in_thousands\", hue=\"gender\")\n",
        "    plt.title(contr)"
      ]
    },
    {
      "cell_type": "markdown",
      "id": "90a79646",
      "metadata": {
        "id": "90a79646"
      },
      "source": [
        "## Sessions"
      ]
    },
    {
      "cell_type": "code",
      "execution_count": 23,
      "id": "a99a69ce",
      "metadata": {
        "colab": {
          "base_uri": "https://localhost:8080/",
          "height": 424
        },
        "id": "a99a69ce",
        "outputId": "18bcf91f-287d-40b0-821d-46cca72edad9"
      },
      "outputs": [
        {
          "output_type": "execute_result",
          "data": {
            "text/plain": [
              "             user_id            action action_type  \\\n",
              "0         d1mm9tcy42            lookup         NaN   \n",
              "1         d1mm9tcy42    search_results       click   \n",
              "2         d1mm9tcy42            lookup         NaN   \n",
              "3         d1mm9tcy42    search_results       click   \n",
              "4         d1mm9tcy42            lookup         NaN   \n",
              "...              ...               ...         ...   \n",
              "10567732  9uqfg8txu3         dashboard        view   \n",
              "10567733  9uqfg8txu3              edit        view   \n",
              "10567734  9uqfg8txu3     webcam_upload   -unknown-   \n",
              "10567735  9uqfg8txu3            active   -unknown-   \n",
              "10567736  9uqfg8txu3  show_personalize        data   \n",
              "\n",
              "                        action_detail      device_type  secs_elapsed  \n",
              "0                                 NaN  Windows Desktop         319.0  \n",
              "1                 view_search_results  Windows Desktop       67753.0  \n",
              "2                                 NaN  Windows Desktop         301.0  \n",
              "3                 view_search_results  Windows Desktop       22141.0  \n",
              "4                                 NaN  Windows Desktop         435.0  \n",
              "...                               ...              ...           ...  \n",
              "10567732                    dashboard  Windows Desktop         556.0  \n",
              "10567733                 edit_profile  Windows Desktop        6624.0  \n",
              "10567734                    -unknown-  Windows Desktop      200125.0  \n",
              "10567735                    -unknown-        -unknown-       17624.0  \n",
              "10567736  user_profile_content_update  Windows Desktop        1221.0  \n",
              "\n",
              "[10567737 rows x 6 columns]"
            ],
            "text/html": [
              "\n",
              "  <div id=\"df-ee73279c-f67b-45b0-bba8-1aef8452dd4d\">\n",
              "    <div class=\"colab-df-container\">\n",
              "      <div>\n",
              "<style scoped>\n",
              "    .dataframe tbody tr th:only-of-type {\n",
              "        vertical-align: middle;\n",
              "    }\n",
              "\n",
              "    .dataframe tbody tr th {\n",
              "        vertical-align: top;\n",
              "    }\n",
              "\n",
              "    .dataframe thead th {\n",
              "        text-align: right;\n",
              "    }\n",
              "</style>\n",
              "<table border=\"1\" class=\"dataframe\">\n",
              "  <thead>\n",
              "    <tr style=\"text-align: right;\">\n",
              "      <th></th>\n",
              "      <th>user_id</th>\n",
              "      <th>action</th>\n",
              "      <th>action_type</th>\n",
              "      <th>action_detail</th>\n",
              "      <th>device_type</th>\n",
              "      <th>secs_elapsed</th>\n",
              "    </tr>\n",
              "  </thead>\n",
              "  <tbody>\n",
              "    <tr>\n",
              "      <th>0</th>\n",
              "      <td>d1mm9tcy42</td>\n",
              "      <td>lookup</td>\n",
              "      <td>NaN</td>\n",
              "      <td>NaN</td>\n",
              "      <td>Windows Desktop</td>\n",
              "      <td>319.0</td>\n",
              "    </tr>\n",
              "    <tr>\n",
              "      <th>1</th>\n",
              "      <td>d1mm9tcy42</td>\n",
              "      <td>search_results</td>\n",
              "      <td>click</td>\n",
              "      <td>view_search_results</td>\n",
              "      <td>Windows Desktop</td>\n",
              "      <td>67753.0</td>\n",
              "    </tr>\n",
              "    <tr>\n",
              "      <th>2</th>\n",
              "      <td>d1mm9tcy42</td>\n",
              "      <td>lookup</td>\n",
              "      <td>NaN</td>\n",
              "      <td>NaN</td>\n",
              "      <td>Windows Desktop</td>\n",
              "      <td>301.0</td>\n",
              "    </tr>\n",
              "    <tr>\n",
              "      <th>3</th>\n",
              "      <td>d1mm9tcy42</td>\n",
              "      <td>search_results</td>\n",
              "      <td>click</td>\n",
              "      <td>view_search_results</td>\n",
              "      <td>Windows Desktop</td>\n",
              "      <td>22141.0</td>\n",
              "    </tr>\n",
              "    <tr>\n",
              "      <th>4</th>\n",
              "      <td>d1mm9tcy42</td>\n",
              "      <td>lookup</td>\n",
              "      <td>NaN</td>\n",
              "      <td>NaN</td>\n",
              "      <td>Windows Desktop</td>\n",
              "      <td>435.0</td>\n",
              "    </tr>\n",
              "    <tr>\n",
              "      <th>...</th>\n",
              "      <td>...</td>\n",
              "      <td>...</td>\n",
              "      <td>...</td>\n",
              "      <td>...</td>\n",
              "      <td>...</td>\n",
              "      <td>...</td>\n",
              "    </tr>\n",
              "    <tr>\n",
              "      <th>10567732</th>\n",
              "      <td>9uqfg8txu3</td>\n",
              "      <td>dashboard</td>\n",
              "      <td>view</td>\n",
              "      <td>dashboard</td>\n",
              "      <td>Windows Desktop</td>\n",
              "      <td>556.0</td>\n",
              "    </tr>\n",
              "    <tr>\n",
              "      <th>10567733</th>\n",
              "      <td>9uqfg8txu3</td>\n",
              "      <td>edit</td>\n",
              "      <td>view</td>\n",
              "      <td>edit_profile</td>\n",
              "      <td>Windows Desktop</td>\n",
              "      <td>6624.0</td>\n",
              "    </tr>\n",
              "    <tr>\n",
              "      <th>10567734</th>\n",
              "      <td>9uqfg8txu3</td>\n",
              "      <td>webcam_upload</td>\n",
              "      <td>-unknown-</td>\n",
              "      <td>-unknown-</td>\n",
              "      <td>Windows Desktop</td>\n",
              "      <td>200125.0</td>\n",
              "    </tr>\n",
              "    <tr>\n",
              "      <th>10567735</th>\n",
              "      <td>9uqfg8txu3</td>\n",
              "      <td>active</td>\n",
              "      <td>-unknown-</td>\n",
              "      <td>-unknown-</td>\n",
              "      <td>-unknown-</td>\n",
              "      <td>17624.0</td>\n",
              "    </tr>\n",
              "    <tr>\n",
              "      <th>10567736</th>\n",
              "      <td>9uqfg8txu3</td>\n",
              "      <td>show_personalize</td>\n",
              "      <td>data</td>\n",
              "      <td>user_profile_content_update</td>\n",
              "      <td>Windows Desktop</td>\n",
              "      <td>1221.0</td>\n",
              "    </tr>\n",
              "  </tbody>\n",
              "</table>\n",
              "<p>10567737 rows × 6 columns</p>\n",
              "</div>\n",
              "      <button class=\"colab-df-convert\" onclick=\"convertToInteractive('df-ee73279c-f67b-45b0-bba8-1aef8452dd4d')\"\n",
              "              title=\"Convert this dataframe to an interactive table.\"\n",
              "              style=\"display:none;\">\n",
              "        \n",
              "  <svg xmlns=\"http://www.w3.org/2000/svg\" height=\"24px\"viewBox=\"0 0 24 24\"\n",
              "       width=\"24px\">\n",
              "    <path d=\"M0 0h24v24H0V0z\" fill=\"none\"/>\n",
              "    <path d=\"M18.56 5.44l.94 2.06.94-2.06 2.06-.94-2.06-.94-.94-2.06-.94 2.06-2.06.94zm-11 1L8.5 8.5l.94-2.06 2.06-.94-2.06-.94L8.5 2.5l-.94 2.06-2.06.94zm10 10l.94 2.06.94-2.06 2.06-.94-2.06-.94-.94-2.06-.94 2.06-2.06.94z\"/><path d=\"M17.41 7.96l-1.37-1.37c-.4-.4-.92-.59-1.43-.59-.52 0-1.04.2-1.43.59L10.3 9.45l-7.72 7.72c-.78.78-.78 2.05 0 2.83L4 21.41c.39.39.9.59 1.41.59.51 0 1.02-.2 1.41-.59l7.78-7.78 2.81-2.81c.8-.78.8-2.07 0-2.86zM5.41 20L4 18.59l7.72-7.72 1.47 1.35L5.41 20z\"/>\n",
              "  </svg>\n",
              "      </button>\n",
              "      \n",
              "  <style>\n",
              "    .colab-df-container {\n",
              "      display:flex;\n",
              "      flex-wrap:wrap;\n",
              "      gap: 12px;\n",
              "    }\n",
              "\n",
              "    .colab-df-convert {\n",
              "      background-color: #E8F0FE;\n",
              "      border: none;\n",
              "      border-radius: 50%;\n",
              "      cursor: pointer;\n",
              "      display: none;\n",
              "      fill: #1967D2;\n",
              "      height: 32px;\n",
              "      padding: 0 0 0 0;\n",
              "      width: 32px;\n",
              "    }\n",
              "\n",
              "    .colab-df-convert:hover {\n",
              "      background-color: #E2EBFA;\n",
              "      box-shadow: 0px 1px 2px rgba(60, 64, 67, 0.3), 0px 1px 3px 1px rgba(60, 64, 67, 0.15);\n",
              "      fill: #174EA6;\n",
              "    }\n",
              "\n",
              "    [theme=dark] .colab-df-convert {\n",
              "      background-color: #3B4455;\n",
              "      fill: #D2E3FC;\n",
              "    }\n",
              "\n",
              "    [theme=dark] .colab-df-convert:hover {\n",
              "      background-color: #434B5C;\n",
              "      box-shadow: 0px 1px 3px 1px rgba(0, 0, 0, 0.15);\n",
              "      filter: drop-shadow(0px 1px 2px rgba(0, 0, 0, 0.3));\n",
              "      fill: #FFFFFF;\n",
              "    }\n",
              "  </style>\n",
              "\n",
              "      <script>\n",
              "        const buttonEl =\n",
              "          document.querySelector('#df-ee73279c-f67b-45b0-bba8-1aef8452dd4d button.colab-df-convert');\n",
              "        buttonEl.style.display =\n",
              "          google.colab.kernel.accessAllowed ? 'block' : 'none';\n",
              "\n",
              "        async function convertToInteractive(key) {\n",
              "          const element = document.querySelector('#df-ee73279c-f67b-45b0-bba8-1aef8452dd4d');\n",
              "          const dataTable =\n",
              "            await google.colab.kernel.invokeFunction('convertToInteractive',\n",
              "                                                     [key], {});\n",
              "          if (!dataTable) return;\n",
              "\n",
              "          const docLinkHtml = 'Like what you see? Visit the ' +\n",
              "            '<a target=\"_blank\" href=https://colab.research.google.com/notebooks/data_table.ipynb>data table notebook</a>'\n",
              "            + ' to learn more about interactive tables.';\n",
              "          element.innerHTML = '';\n",
              "          dataTable['output_type'] = 'display_data';\n",
              "          await google.colab.output.renderOutput(dataTable, element);\n",
              "          const docLink = document.createElement('div');\n",
              "          docLink.innerHTML = docLinkHtml;\n",
              "          element.appendChild(docLink);\n",
              "        }\n",
              "      </script>\n",
              "    </div>\n",
              "  </div>\n",
              "  "
            ]
          },
          "metadata": {},
          "execution_count": 23
        }
      ],
      "source": [
        "sessions"
      ]
    },
    {
      "cell_type": "code",
      "execution_count": 24,
      "id": "f09bca62",
      "metadata": {
        "colab": {
          "base_uri": "https://localhost:8080/"
        },
        "id": "f09bca62",
        "outputId": "7beca146-13fa-4941-bc74-8e8ec26dc143"
      },
      "outputs": [
        {
          "output_type": "execute_result",
          "data": {
            "text/plain": [
              "array([nan, 'click', 'data', 'view', 'submit', 'message_post',\n",
              "       '-unknown-', 'booking_request', 'partner_callback',\n",
              "       'booking_response', 'modify'], dtype=object)"
            ]
          },
          "metadata": {},
          "execution_count": 24
        }
      ],
      "source": [
        "sessions[\"action_type\"].unique()"
      ]
    },
    {
      "cell_type": "code",
      "execution_count": 25,
      "id": "4e80d351",
      "metadata": {
        "colab": {
          "base_uri": "https://localhost:8080/"
        },
        "id": "4e80d351",
        "outputId": "dcadc817-a92d-44c2-e2a9-6dc9c4cce643"
      },
      "outputs": [
        {
          "output_type": "execute_result",
          "data": {
            "text/plain": [
              "array(['Windows Desktop', '-unknown-', 'Mac Desktop', 'Android Phone',\n",
              "       'iPhone', 'iPad Tablet', 'Android App Unknown Phone/Tablet',\n",
              "       'Linux Desktop', 'Tablet', 'Chromebook', 'Blackberry', 'iPodtouch',\n",
              "       'Windows Phone', 'Opera Phone'], dtype=object)"
            ]
          },
          "metadata": {},
          "execution_count": 25
        }
      ],
      "source": [
        "sessions[\"device_type\"].unique()"
      ]
    },
    {
      "cell_type": "markdown",
      "id": "6ca670cf",
      "metadata": {
        "id": "6ca670cf"
      },
      "source": [
        "## countries"
      ]
    },
    {
      "cell_type": "code",
      "execution_count": 26,
      "id": "9b5d2453",
      "metadata": {
        "colab": {
          "base_uri": "https://localhost:8080/",
          "height": 427
        },
        "id": "9b5d2453",
        "outputId": "bfb6fdbe-917b-489a-f46e-751d56c6d1cc"
      },
      "outputs": [
        {
          "output_type": "execute_result",
          "data": {
            "text/plain": [
              "  country_destination  lat_destination  lng_destination  distance_km  \\\n",
              "0                  AU       -26.853388       133.275160   15297.7440   \n",
              "1                  CA        62.393303       -96.818146    2828.1333   \n",
              "2                  DE        51.165707        10.452764    7879.5680   \n",
              "3                  ES        39.896027        -2.487694    7730.7240   \n",
              "4                  FR        46.232193         2.209667    7682.9450   \n",
              "5                  GB        54.633220        -3.432277    6883.6590   \n",
              "6                  IT        41.873990        12.564167    8636.6310   \n",
              "7                  NL        52.133057         5.295250    7524.3203   \n",
              "8                  PT        39.553444        -7.839319    7355.2534   \n",
              "9                  US        36.966427       -95.844030       0.0000   \n",
              "\n",
              "   destination_km2 destination_language   language_levenshtein_distance  \n",
              "0        7741220.0                   eng                           0.00  \n",
              "1        9984670.0                   eng                           0.00  \n",
              "2         357022.0                   deu                          72.61  \n",
              "3         505370.0                   spa                          92.25  \n",
              "4         643801.0                   fra                          92.06  \n",
              "5         243610.0                   eng                           0.00  \n",
              "6         301340.0                   ita                          89.40  \n",
              "7          41543.0                   nld                          63.22  \n",
              "8          92090.0                   por                          95.45  \n",
              "9        9826675.0                   eng                           0.00  "
            ],
            "text/html": [
              "\n",
              "  <div id=\"df-284910dc-c5e1-4d08-b23b-5c03bc03cbab\">\n",
              "    <div class=\"colab-df-container\">\n",
              "      <div>\n",
              "<style scoped>\n",
              "    .dataframe tbody tr th:only-of-type {\n",
              "        vertical-align: middle;\n",
              "    }\n",
              "\n",
              "    .dataframe tbody tr th {\n",
              "        vertical-align: top;\n",
              "    }\n",
              "\n",
              "    .dataframe thead th {\n",
              "        text-align: right;\n",
              "    }\n",
              "</style>\n",
              "<table border=\"1\" class=\"dataframe\">\n",
              "  <thead>\n",
              "    <tr style=\"text-align: right;\">\n",
              "      <th></th>\n",
              "      <th>country_destination</th>\n",
              "      <th>lat_destination</th>\n",
              "      <th>lng_destination</th>\n",
              "      <th>distance_km</th>\n",
              "      <th>destination_km2</th>\n",
              "      <th>destination_language</th>\n",
              "      <th>language_levenshtein_distance</th>\n",
              "    </tr>\n",
              "  </thead>\n",
              "  <tbody>\n",
              "    <tr>\n",
              "      <th>0</th>\n",
              "      <td>AU</td>\n",
              "      <td>-26.853388</td>\n",
              "      <td>133.275160</td>\n",
              "      <td>15297.7440</td>\n",
              "      <td>7741220.0</td>\n",
              "      <td>eng</td>\n",
              "      <td>0.00</td>\n",
              "    </tr>\n",
              "    <tr>\n",
              "      <th>1</th>\n",
              "      <td>CA</td>\n",
              "      <td>62.393303</td>\n",
              "      <td>-96.818146</td>\n",
              "      <td>2828.1333</td>\n",
              "      <td>9984670.0</td>\n",
              "      <td>eng</td>\n",
              "      <td>0.00</td>\n",
              "    </tr>\n",
              "    <tr>\n",
              "      <th>2</th>\n",
              "      <td>DE</td>\n",
              "      <td>51.165707</td>\n",
              "      <td>10.452764</td>\n",
              "      <td>7879.5680</td>\n",
              "      <td>357022.0</td>\n",
              "      <td>deu</td>\n",
              "      <td>72.61</td>\n",
              "    </tr>\n",
              "    <tr>\n",
              "      <th>3</th>\n",
              "      <td>ES</td>\n",
              "      <td>39.896027</td>\n",
              "      <td>-2.487694</td>\n",
              "      <td>7730.7240</td>\n",
              "      <td>505370.0</td>\n",
              "      <td>spa</td>\n",
              "      <td>92.25</td>\n",
              "    </tr>\n",
              "    <tr>\n",
              "      <th>4</th>\n",
              "      <td>FR</td>\n",
              "      <td>46.232193</td>\n",
              "      <td>2.209667</td>\n",
              "      <td>7682.9450</td>\n",
              "      <td>643801.0</td>\n",
              "      <td>fra</td>\n",
              "      <td>92.06</td>\n",
              "    </tr>\n",
              "    <tr>\n",
              "      <th>5</th>\n",
              "      <td>GB</td>\n",
              "      <td>54.633220</td>\n",
              "      <td>-3.432277</td>\n",
              "      <td>6883.6590</td>\n",
              "      <td>243610.0</td>\n",
              "      <td>eng</td>\n",
              "      <td>0.00</td>\n",
              "    </tr>\n",
              "    <tr>\n",
              "      <th>6</th>\n",
              "      <td>IT</td>\n",
              "      <td>41.873990</td>\n",
              "      <td>12.564167</td>\n",
              "      <td>8636.6310</td>\n",
              "      <td>301340.0</td>\n",
              "      <td>ita</td>\n",
              "      <td>89.40</td>\n",
              "    </tr>\n",
              "    <tr>\n",
              "      <th>7</th>\n",
              "      <td>NL</td>\n",
              "      <td>52.133057</td>\n",
              "      <td>5.295250</td>\n",
              "      <td>7524.3203</td>\n",
              "      <td>41543.0</td>\n",
              "      <td>nld</td>\n",
              "      <td>63.22</td>\n",
              "    </tr>\n",
              "    <tr>\n",
              "      <th>8</th>\n",
              "      <td>PT</td>\n",
              "      <td>39.553444</td>\n",
              "      <td>-7.839319</td>\n",
              "      <td>7355.2534</td>\n",
              "      <td>92090.0</td>\n",
              "      <td>por</td>\n",
              "      <td>95.45</td>\n",
              "    </tr>\n",
              "    <tr>\n",
              "      <th>9</th>\n",
              "      <td>US</td>\n",
              "      <td>36.966427</td>\n",
              "      <td>-95.844030</td>\n",
              "      <td>0.0000</td>\n",
              "      <td>9826675.0</td>\n",
              "      <td>eng</td>\n",
              "      <td>0.00</td>\n",
              "    </tr>\n",
              "  </tbody>\n",
              "</table>\n",
              "</div>\n",
              "      <button class=\"colab-df-convert\" onclick=\"convertToInteractive('df-284910dc-c5e1-4d08-b23b-5c03bc03cbab')\"\n",
              "              title=\"Convert this dataframe to an interactive table.\"\n",
              "              style=\"display:none;\">\n",
              "        \n",
              "  <svg xmlns=\"http://www.w3.org/2000/svg\" height=\"24px\"viewBox=\"0 0 24 24\"\n",
              "       width=\"24px\">\n",
              "    <path d=\"M0 0h24v24H0V0z\" fill=\"none\"/>\n",
              "    <path d=\"M18.56 5.44l.94 2.06.94-2.06 2.06-.94-2.06-.94-.94-2.06-.94 2.06-2.06.94zm-11 1L8.5 8.5l.94-2.06 2.06-.94-2.06-.94L8.5 2.5l-.94 2.06-2.06.94zm10 10l.94 2.06.94-2.06 2.06-.94-2.06-.94-.94-2.06-.94 2.06-2.06.94z\"/><path d=\"M17.41 7.96l-1.37-1.37c-.4-.4-.92-.59-1.43-.59-.52 0-1.04.2-1.43.59L10.3 9.45l-7.72 7.72c-.78.78-.78 2.05 0 2.83L4 21.41c.39.39.9.59 1.41.59.51 0 1.02-.2 1.41-.59l7.78-7.78 2.81-2.81c.8-.78.8-2.07 0-2.86zM5.41 20L4 18.59l7.72-7.72 1.47 1.35L5.41 20z\"/>\n",
              "  </svg>\n",
              "      </button>\n",
              "      \n",
              "  <style>\n",
              "    .colab-df-container {\n",
              "      display:flex;\n",
              "      flex-wrap:wrap;\n",
              "      gap: 12px;\n",
              "    }\n",
              "\n",
              "    .colab-df-convert {\n",
              "      background-color: #E8F0FE;\n",
              "      border: none;\n",
              "      border-radius: 50%;\n",
              "      cursor: pointer;\n",
              "      display: none;\n",
              "      fill: #1967D2;\n",
              "      height: 32px;\n",
              "      padding: 0 0 0 0;\n",
              "      width: 32px;\n",
              "    }\n",
              "\n",
              "    .colab-df-convert:hover {\n",
              "      background-color: #E2EBFA;\n",
              "      box-shadow: 0px 1px 2px rgba(60, 64, 67, 0.3), 0px 1px 3px 1px rgba(60, 64, 67, 0.15);\n",
              "      fill: #174EA6;\n",
              "    }\n",
              "\n",
              "    [theme=dark] .colab-df-convert {\n",
              "      background-color: #3B4455;\n",
              "      fill: #D2E3FC;\n",
              "    }\n",
              "\n",
              "    [theme=dark] .colab-df-convert:hover {\n",
              "      background-color: #434B5C;\n",
              "      box-shadow: 0px 1px 3px 1px rgba(0, 0, 0, 0.15);\n",
              "      filter: drop-shadow(0px 1px 2px rgba(0, 0, 0, 0.3));\n",
              "      fill: #FFFFFF;\n",
              "    }\n",
              "  </style>\n",
              "\n",
              "      <script>\n",
              "        const buttonEl =\n",
              "          document.querySelector('#df-284910dc-c5e1-4d08-b23b-5c03bc03cbab button.colab-df-convert');\n",
              "        buttonEl.style.display =\n",
              "          google.colab.kernel.accessAllowed ? 'block' : 'none';\n",
              "\n",
              "        async function convertToInteractive(key) {\n",
              "          const element = document.querySelector('#df-284910dc-c5e1-4d08-b23b-5c03bc03cbab');\n",
              "          const dataTable =\n",
              "            await google.colab.kernel.invokeFunction('convertToInteractive',\n",
              "                                                     [key], {});\n",
              "          if (!dataTable) return;\n",
              "\n",
              "          const docLinkHtml = 'Like what you see? Visit the ' +\n",
              "            '<a target=\"_blank\" href=https://colab.research.google.com/notebooks/data_table.ipynb>data table notebook</a>'\n",
              "            + ' to learn more about interactive tables.';\n",
              "          element.innerHTML = '';\n",
              "          dataTable['output_type'] = 'display_data';\n",
              "          await google.colab.output.renderOutput(dataTable, element);\n",
              "          const docLink = document.createElement('div');\n",
              "          docLink.innerHTML = docLinkHtml;\n",
              "          element.appendChild(docLink);\n",
              "        }\n",
              "      </script>\n",
              "    </div>\n",
              "  </div>\n",
              "  "
            ]
          },
          "metadata": {},
          "execution_count": 26
        }
      ],
      "source": [
        "countries"
      ]
    },
    {
      "cell_type": "markdown",
      "id": "afe7a4df",
      "metadata": {
        "id": "afe7a4df"
      },
      "source": [
        "# Feature Engineering"
      ]
    },
    {
      "cell_type": "markdown",
      "id": "c0d0b0b2",
      "metadata": {
        "id": "c0d0b0b2"
      },
      "source": [
        "## Count Action"
      ]
    },
    {
      "cell_type": "code",
      "execution_count": 27,
      "id": "abf34796",
      "metadata": {
        "colab": {
          "base_uri": "https://localhost:8080/",
          "height": 424
        },
        "id": "abf34796",
        "outputId": "755d5169-43f9-4cde-e6f8-abf5b5bba2cc"
      },
      "outputs": [
        {
          "output_type": "execute_result",
          "data": {
            "text/plain": [
              "             user_id            action action_type  \\\n",
              "0         d1mm9tcy42            lookup         NaN   \n",
              "1         d1mm9tcy42    search_results       click   \n",
              "2         d1mm9tcy42            lookup         NaN   \n",
              "3         d1mm9tcy42    search_results       click   \n",
              "4         d1mm9tcy42            lookup         NaN   \n",
              "...              ...               ...         ...   \n",
              "10567732  9uqfg8txu3         dashboard        view   \n",
              "10567733  9uqfg8txu3              edit        view   \n",
              "10567734  9uqfg8txu3     webcam_upload   -unknown-   \n",
              "10567735  9uqfg8txu3            active   -unknown-   \n",
              "10567736  9uqfg8txu3  show_personalize        data   \n",
              "\n",
              "                        action_detail      device_type  secs_elapsed  \n",
              "0                                 NaN  Windows Desktop         319.0  \n",
              "1                 view_search_results  Windows Desktop       67753.0  \n",
              "2                                 NaN  Windows Desktop         301.0  \n",
              "3                 view_search_results  Windows Desktop       22141.0  \n",
              "4                                 NaN  Windows Desktop         435.0  \n",
              "...                               ...              ...           ...  \n",
              "10567732                    dashboard  Windows Desktop         556.0  \n",
              "10567733                 edit_profile  Windows Desktop        6624.0  \n",
              "10567734                    -unknown-  Windows Desktop      200125.0  \n",
              "10567735                    -unknown-        -unknown-       17624.0  \n",
              "10567736  user_profile_content_update  Windows Desktop        1221.0  \n",
              "\n",
              "[10567737 rows x 6 columns]"
            ],
            "text/html": [
              "\n",
              "  <div id=\"df-ae71831b-5750-42e1-bca8-6b1b3df4fd47\">\n",
              "    <div class=\"colab-df-container\">\n",
              "      <div>\n",
              "<style scoped>\n",
              "    .dataframe tbody tr th:only-of-type {\n",
              "        vertical-align: middle;\n",
              "    }\n",
              "\n",
              "    .dataframe tbody tr th {\n",
              "        vertical-align: top;\n",
              "    }\n",
              "\n",
              "    .dataframe thead th {\n",
              "        text-align: right;\n",
              "    }\n",
              "</style>\n",
              "<table border=\"1\" class=\"dataframe\">\n",
              "  <thead>\n",
              "    <tr style=\"text-align: right;\">\n",
              "      <th></th>\n",
              "      <th>user_id</th>\n",
              "      <th>action</th>\n",
              "      <th>action_type</th>\n",
              "      <th>action_detail</th>\n",
              "      <th>device_type</th>\n",
              "      <th>secs_elapsed</th>\n",
              "    </tr>\n",
              "  </thead>\n",
              "  <tbody>\n",
              "    <tr>\n",
              "      <th>0</th>\n",
              "      <td>d1mm9tcy42</td>\n",
              "      <td>lookup</td>\n",
              "      <td>NaN</td>\n",
              "      <td>NaN</td>\n",
              "      <td>Windows Desktop</td>\n",
              "      <td>319.0</td>\n",
              "    </tr>\n",
              "    <tr>\n",
              "      <th>1</th>\n",
              "      <td>d1mm9tcy42</td>\n",
              "      <td>search_results</td>\n",
              "      <td>click</td>\n",
              "      <td>view_search_results</td>\n",
              "      <td>Windows Desktop</td>\n",
              "      <td>67753.0</td>\n",
              "    </tr>\n",
              "    <tr>\n",
              "      <th>2</th>\n",
              "      <td>d1mm9tcy42</td>\n",
              "      <td>lookup</td>\n",
              "      <td>NaN</td>\n",
              "      <td>NaN</td>\n",
              "      <td>Windows Desktop</td>\n",
              "      <td>301.0</td>\n",
              "    </tr>\n",
              "    <tr>\n",
              "      <th>3</th>\n",
              "      <td>d1mm9tcy42</td>\n",
              "      <td>search_results</td>\n",
              "      <td>click</td>\n",
              "      <td>view_search_results</td>\n",
              "      <td>Windows Desktop</td>\n",
              "      <td>22141.0</td>\n",
              "    </tr>\n",
              "    <tr>\n",
              "      <th>4</th>\n",
              "      <td>d1mm9tcy42</td>\n",
              "      <td>lookup</td>\n",
              "      <td>NaN</td>\n",
              "      <td>NaN</td>\n",
              "      <td>Windows Desktop</td>\n",
              "      <td>435.0</td>\n",
              "    </tr>\n",
              "    <tr>\n",
              "      <th>...</th>\n",
              "      <td>...</td>\n",
              "      <td>...</td>\n",
              "      <td>...</td>\n",
              "      <td>...</td>\n",
              "      <td>...</td>\n",
              "      <td>...</td>\n",
              "    </tr>\n",
              "    <tr>\n",
              "      <th>10567732</th>\n",
              "      <td>9uqfg8txu3</td>\n",
              "      <td>dashboard</td>\n",
              "      <td>view</td>\n",
              "      <td>dashboard</td>\n",
              "      <td>Windows Desktop</td>\n",
              "      <td>556.0</td>\n",
              "    </tr>\n",
              "    <tr>\n",
              "      <th>10567733</th>\n",
              "      <td>9uqfg8txu3</td>\n",
              "      <td>edit</td>\n",
              "      <td>view</td>\n",
              "      <td>edit_profile</td>\n",
              "      <td>Windows Desktop</td>\n",
              "      <td>6624.0</td>\n",
              "    </tr>\n",
              "    <tr>\n",
              "      <th>10567734</th>\n",
              "      <td>9uqfg8txu3</td>\n",
              "      <td>webcam_upload</td>\n",
              "      <td>-unknown-</td>\n",
              "      <td>-unknown-</td>\n",
              "      <td>Windows Desktop</td>\n",
              "      <td>200125.0</td>\n",
              "    </tr>\n",
              "    <tr>\n",
              "      <th>10567735</th>\n",
              "      <td>9uqfg8txu3</td>\n",
              "      <td>active</td>\n",
              "      <td>-unknown-</td>\n",
              "      <td>-unknown-</td>\n",
              "      <td>-unknown-</td>\n",
              "      <td>17624.0</td>\n",
              "    </tr>\n",
              "    <tr>\n",
              "      <th>10567736</th>\n",
              "      <td>9uqfg8txu3</td>\n",
              "      <td>show_personalize</td>\n",
              "      <td>data</td>\n",
              "      <td>user_profile_content_update</td>\n",
              "      <td>Windows Desktop</td>\n",
              "      <td>1221.0</td>\n",
              "    </tr>\n",
              "  </tbody>\n",
              "</table>\n",
              "<p>10567737 rows × 6 columns</p>\n",
              "</div>\n",
              "      <button class=\"colab-df-convert\" onclick=\"convertToInteractive('df-ae71831b-5750-42e1-bca8-6b1b3df4fd47')\"\n",
              "              title=\"Convert this dataframe to an interactive table.\"\n",
              "              style=\"display:none;\">\n",
              "        \n",
              "  <svg xmlns=\"http://www.w3.org/2000/svg\" height=\"24px\"viewBox=\"0 0 24 24\"\n",
              "       width=\"24px\">\n",
              "    <path d=\"M0 0h24v24H0V0z\" fill=\"none\"/>\n",
              "    <path d=\"M18.56 5.44l.94 2.06.94-2.06 2.06-.94-2.06-.94-.94-2.06-.94 2.06-2.06.94zm-11 1L8.5 8.5l.94-2.06 2.06-.94-2.06-.94L8.5 2.5l-.94 2.06-2.06.94zm10 10l.94 2.06.94-2.06 2.06-.94-2.06-.94-.94-2.06-.94 2.06-2.06.94z\"/><path d=\"M17.41 7.96l-1.37-1.37c-.4-.4-.92-.59-1.43-.59-.52 0-1.04.2-1.43.59L10.3 9.45l-7.72 7.72c-.78.78-.78 2.05 0 2.83L4 21.41c.39.39.9.59 1.41.59.51 0 1.02-.2 1.41-.59l7.78-7.78 2.81-2.81c.8-.78.8-2.07 0-2.86zM5.41 20L4 18.59l7.72-7.72 1.47 1.35L5.41 20z\"/>\n",
              "  </svg>\n",
              "      </button>\n",
              "      \n",
              "  <style>\n",
              "    .colab-df-container {\n",
              "      display:flex;\n",
              "      flex-wrap:wrap;\n",
              "      gap: 12px;\n",
              "    }\n",
              "\n",
              "    .colab-df-convert {\n",
              "      background-color: #E8F0FE;\n",
              "      border: none;\n",
              "      border-radius: 50%;\n",
              "      cursor: pointer;\n",
              "      display: none;\n",
              "      fill: #1967D2;\n",
              "      height: 32px;\n",
              "      padding: 0 0 0 0;\n",
              "      width: 32px;\n",
              "    }\n",
              "\n",
              "    .colab-df-convert:hover {\n",
              "      background-color: #E2EBFA;\n",
              "      box-shadow: 0px 1px 2px rgba(60, 64, 67, 0.3), 0px 1px 3px 1px rgba(60, 64, 67, 0.15);\n",
              "      fill: #174EA6;\n",
              "    }\n",
              "\n",
              "    [theme=dark] .colab-df-convert {\n",
              "      background-color: #3B4455;\n",
              "      fill: #D2E3FC;\n",
              "    }\n",
              "\n",
              "    [theme=dark] .colab-df-convert:hover {\n",
              "      background-color: #434B5C;\n",
              "      box-shadow: 0px 1px 3px 1px rgba(0, 0, 0, 0.15);\n",
              "      filter: drop-shadow(0px 1px 2px rgba(0, 0, 0, 0.3));\n",
              "      fill: #FFFFFF;\n",
              "    }\n",
              "  </style>\n",
              "\n",
              "      <script>\n",
              "        const buttonEl =\n",
              "          document.querySelector('#df-ae71831b-5750-42e1-bca8-6b1b3df4fd47 button.colab-df-convert');\n",
              "        buttonEl.style.display =\n",
              "          google.colab.kernel.accessAllowed ? 'block' : 'none';\n",
              "\n",
              "        async function convertToInteractive(key) {\n",
              "          const element = document.querySelector('#df-ae71831b-5750-42e1-bca8-6b1b3df4fd47');\n",
              "          const dataTable =\n",
              "            await google.colab.kernel.invokeFunction('convertToInteractive',\n",
              "                                                     [key], {});\n",
              "          if (!dataTable) return;\n",
              "\n",
              "          const docLinkHtml = 'Like what you see? Visit the ' +\n",
              "            '<a target=\"_blank\" href=https://colab.research.google.com/notebooks/data_table.ipynb>data table notebook</a>'\n",
              "            + ' to learn more about interactive tables.';\n",
              "          element.innerHTML = '';\n",
              "          dataTable['output_type'] = 'display_data';\n",
              "          await google.colab.output.renderOutput(dataTable, element);\n",
              "          const docLink = document.createElement('div');\n",
              "          docLink.innerHTML = docLinkHtml;\n",
              "          element.appendChild(docLink);\n",
              "        }\n",
              "      </script>\n",
              "    </div>\n",
              "  </div>\n",
              "  "
            ]
          },
          "metadata": {},
          "execution_count": 27
        }
      ],
      "source": [
        "sessions"
      ]
    },
    {
      "cell_type": "code",
      "execution_count": 28,
      "id": "614f03b7",
      "metadata": {
        "id": "614f03b7"
      },
      "outputs": [],
      "source": [
        "def count_sess (feature):\n",
        "    count_group = sessions[[\"user_id\", feature]].groupby([\"user_id\", feature]).agg(np.size)\n",
        "    count_group = count_group.reset_index()\n",
        "    count_group = count_group.rename({0:\"count\"}, axis=1)\n",
        "    count_group = count_group.pivot_table(values=\"count\", columns=feature, index=\"user_id\")\n",
        "    count_group = count_group.fillna(0)\n",
        "    count_group = count_group.reset_index()\n",
        "    name = np.array([])\n",
        "    for i in count_group.columns:\n",
        "        if i == \"user_id\":\n",
        "            name = np.append(name, \"id\")\n",
        "        else:\n",
        "            name = np.append(name, feature+\"_\"+i)\n",
        "    count_group.columns = name\n",
        "    return count_group"
      ]
    },
    {
      "cell_type": "code",
      "execution_count": 29,
      "id": "1ba84a36",
      "metadata": {
        "id": "1ba84a36"
      },
      "outputs": [],
      "source": [
        "for feature in sessions.columns[1:5]:\n",
        "    count_group = count_sess(feature)\n",
        "    train_users = pd.merge(train_users, count_group, how=\"left\", on=\"id\")"
      ]
    },
    {
      "cell_type": "markdown",
      "source": [
        "## Label Encoding"
      ],
      "metadata": {
        "id": "IwNTXxQrzZb1"
      },
      "id": "IwNTXxQrzZb1"
    },
    {
      "cell_type": "code",
      "source": [
        "train_users.columns[0:20]"
      ],
      "metadata": {
        "colab": {
          "base_uri": "https://localhost:8080/"
        },
        "id": "g7XOBFl1zgW9",
        "outputId": "4a8c7af8-0320-4638-accb-21b01c54167c"
      },
      "id": "g7XOBFl1zgW9",
      "execution_count": 30,
      "outputs": [
        {
          "output_type": "execute_result",
          "data": {
            "text/plain": [
              "Index(['id', 'date_account_created', 'timestamp_first_active',\n",
              "       'date_first_booking', 'gender', 'age', 'signup_method', 'signup_flow',\n",
              "       'language', 'affiliate_channel', 'affiliate_provider',\n",
              "       'first_affiliate_tracked', 'signup_app', 'first_device_type',\n",
              "       'first_browser', 'country_destination', 'action_10', 'action_11',\n",
              "       'action_12', 'action_15'],\n",
              "      dtype='object')"
            ]
          },
          "metadata": {},
          "execution_count": 30
        }
      ]
    },
    {
      "cell_type": "code",
      "source": [
        "def OH_encoder(feature):\n",
        "    dummise_tmp = pd.get_dummies(train_users[feature])\n",
        "    name = np.array([])\n",
        "    for i in dummise_tmp.columns:\n",
        "        name = np.append(name, feature+\"_\"+str(i))\n",
        "    dummise_tmp.columns = name\n",
        "    return dummise_tmp"
      ],
      "metadata": {
        "id": "lKhV1Hg9zpb3"
      },
      "id": "lKhV1Hg9zpb3",
      "execution_count": 31,
      "outputs": []
    },
    {
      "cell_type": "code",
      "source": [
        "features = ['gender', 'signup_method', 'signup_flow', \n",
        "            'language', 'affiliate_channel', 'affiliate_provider',\n",
        "            'first_affiliate_tracked', 'signup_app', 'first_device_type',\n",
        "            'first_browser']\n",
        "\n",
        "for feature in features:\n",
        "    dummise_tmp = OH_encoder(feature)\n",
        "    train_users = pd.concat([train_users, dummise_tmp], axis=1)"
      ],
      "metadata": {
        "colab": {
          "base_uri": "https://localhost:8080/",
          "height": 505
        },
        "id": "OFAINTv_9qzH",
        "outputId": "5620ecf0-8753-474d-b489-53ee6a6a9efc"
      },
      "id": "OFAINTv_9qzH",
      "execution_count": 32,
      "outputs": [
        {
          "output_type": "execute_result",
          "data": {
            "text/plain": [
              "                id date_account_created timestamp_first_active  \\\n",
              "0       gxn3p5htnn           2010-06-28             2009-03-19   \n",
              "1       820tgsjxq7           2011-05-25             2009-05-23   \n",
              "2       4ft3gnwmtx           2010-09-28             2009-06-09   \n",
              "3       bjjt8pjhuk           2011-12-05             2009-10-31   \n",
              "4       87mebub9p4           2010-09-14             2009-12-08   \n",
              "...            ...                  ...                    ...   \n",
              "213446  zxodksqpep           2014-06-30             2014-06-30   \n",
              "213447  mhewnxesx9           2014-06-30             2014-06-30   \n",
              "213448  6o3arsjbb4           2014-06-30             2014-06-30   \n",
              "213449  jh95kwisub           2014-06-30             2014-06-30   \n",
              "213450  nw9fwlyb5f           2014-06-30             2014-06-30   \n",
              "\n",
              "       date_first_booking   age country_destination  action_10  action_11  \\\n",
              "0                     NaT   NaN                 NDF        NaN        NaN   \n",
              "1                     NaT  38.0                 NDF        NaN        NaN   \n",
              "2              2010-08-02  56.0                  US        NaN        NaN   \n",
              "3              2012-09-08  42.0               other        NaN        NaN   \n",
              "4              2010-02-18  41.0                  US        NaN        NaN   \n",
              "...                   ...   ...                 ...        ...        ...   \n",
              "213446                NaT  32.0                 NDF        0.0        0.0   \n",
              "213447                NaT   NaN                 NDF        0.0        0.0   \n",
              "213448                NaT  32.0                 NDF        0.0        0.0   \n",
              "213449                NaT   NaN                 NDF        0.0        0.0   \n",
              "213450                NaT   NaN                 NDF        0.0        0.0   \n",
              "\n",
              "        action_12  action_15  ...  first_browser_SeaMonkey  \\\n",
              "0             NaN        NaN  ...                        0   \n",
              "1             NaN        NaN  ...                        0   \n",
              "2             NaN        NaN  ...                        0   \n",
              "3             NaN        NaN  ...                        0   \n",
              "4             NaN        NaN  ...                        0   \n",
              "...           ...        ...  ...                      ...   \n",
              "213446        0.0        0.0  ...                        0   \n",
              "213447        0.0        0.0  ...                        0   \n",
              "213448        0.0        0.0  ...                        0   \n",
              "213449        0.0        0.0  ...                        0   \n",
              "213450        0.0        0.0  ...                        0   \n",
              "\n",
              "        first_browser_Silk  first_browser_SiteKiosk  \\\n",
              "0                        0                        0   \n",
              "1                        0                        0   \n",
              "2                        0                        0   \n",
              "3                        0                        0   \n",
              "4                        0                        0   \n",
              "...                    ...                      ...   \n",
              "213446                   0                        0   \n",
              "213447                   0                        0   \n",
              "213448                   0                        0   \n",
              "213449                   0                        0   \n",
              "213450                   0                        0   \n",
              "\n",
              "        first_browser_SlimBrowser  first_browser_Sogou Explorer  \\\n",
              "0                               0                             0   \n",
              "1                               0                             0   \n",
              "2                               0                             0   \n",
              "3                               0                             0   \n",
              "4                               0                             0   \n",
              "...                           ...                           ...   \n",
              "213446                          0                             0   \n",
              "213447                          0                             0   \n",
              "213448                          0                             0   \n",
              "213449                          0                             0   \n",
              "213450                          0                             0   \n",
              "\n",
              "        first_browser_Stainless  first_browser_TenFourFox  \\\n",
              "0                             0                         0   \n",
              "1                             0                         0   \n",
              "2                             0                         0   \n",
              "3                             0                         0   \n",
              "4                             0                         0   \n",
              "...                         ...                       ...   \n",
              "213446                        0                         0   \n",
              "213447                        0                         0   \n",
              "213448                        0                         0   \n",
              "213449                        0                         0   \n",
              "213450                        0                         0   \n",
              "\n",
              "        first_browser_TheWorld Browser  first_browser_Yandex.Browser  \\\n",
              "0                                    0                             0   \n",
              "1                                    0                             0   \n",
              "2                                    0                             0   \n",
              "3                                    0                             0   \n",
              "4                                    0                             0   \n",
              "...                                ...                           ...   \n",
              "213446                               0                             0   \n",
              "213447                               0                             0   \n",
              "213448                               0                             0   \n",
              "213449                               0                             0   \n",
              "213450                               0                             0   \n",
              "\n",
              "        first_browser_wOSBrowser  \n",
              "0                              0  \n",
              "1                              0  \n",
              "2                              0  \n",
              "3                              0  \n",
              "4                              0  \n",
              "...                          ...  \n",
              "213446                         0  \n",
              "213447                         0  \n",
              "213448                         0  \n",
              "213449                         0  \n",
              "213450                         0  \n",
              "\n",
              "[213451 rows x 691 columns]"
            ],
            "text/html": [
              "\n",
              "  <div id=\"df-c64e831c-6a66-4c44-b2be-ef1e555abdf1\">\n",
              "    <div class=\"colab-df-container\">\n",
              "      <div>\n",
              "<style scoped>\n",
              "    .dataframe tbody tr th:only-of-type {\n",
              "        vertical-align: middle;\n",
              "    }\n",
              "\n",
              "    .dataframe tbody tr th {\n",
              "        vertical-align: top;\n",
              "    }\n",
              "\n",
              "    .dataframe thead th {\n",
              "        text-align: right;\n",
              "    }\n",
              "</style>\n",
              "<table border=\"1\" class=\"dataframe\">\n",
              "  <thead>\n",
              "    <tr style=\"text-align: right;\">\n",
              "      <th></th>\n",
              "      <th>id</th>\n",
              "      <th>date_account_created</th>\n",
              "      <th>timestamp_first_active</th>\n",
              "      <th>date_first_booking</th>\n",
              "      <th>age</th>\n",
              "      <th>country_destination</th>\n",
              "      <th>action_10</th>\n",
              "      <th>action_11</th>\n",
              "      <th>action_12</th>\n",
              "      <th>action_15</th>\n",
              "      <th>...</th>\n",
              "      <th>first_browser_SeaMonkey</th>\n",
              "      <th>first_browser_Silk</th>\n",
              "      <th>first_browser_SiteKiosk</th>\n",
              "      <th>first_browser_SlimBrowser</th>\n",
              "      <th>first_browser_Sogou Explorer</th>\n",
              "      <th>first_browser_Stainless</th>\n",
              "      <th>first_browser_TenFourFox</th>\n",
              "      <th>first_browser_TheWorld Browser</th>\n",
              "      <th>first_browser_Yandex.Browser</th>\n",
              "      <th>first_browser_wOSBrowser</th>\n",
              "    </tr>\n",
              "  </thead>\n",
              "  <tbody>\n",
              "    <tr>\n",
              "      <th>0</th>\n",
              "      <td>gxn3p5htnn</td>\n",
              "      <td>2010-06-28</td>\n",
              "      <td>2009-03-19</td>\n",
              "      <td>NaT</td>\n",
              "      <td>NaN</td>\n",
              "      <td>NDF</td>\n",
              "      <td>NaN</td>\n",
              "      <td>NaN</td>\n",
              "      <td>NaN</td>\n",
              "      <td>NaN</td>\n",
              "      <td>...</td>\n",
              "      <td>0</td>\n",
              "      <td>0</td>\n",
              "      <td>0</td>\n",
              "      <td>0</td>\n",
              "      <td>0</td>\n",
              "      <td>0</td>\n",
              "      <td>0</td>\n",
              "      <td>0</td>\n",
              "      <td>0</td>\n",
              "      <td>0</td>\n",
              "    </tr>\n",
              "    <tr>\n",
              "      <th>1</th>\n",
              "      <td>820tgsjxq7</td>\n",
              "      <td>2011-05-25</td>\n",
              "      <td>2009-05-23</td>\n",
              "      <td>NaT</td>\n",
              "      <td>38.0</td>\n",
              "      <td>NDF</td>\n",
              "      <td>NaN</td>\n",
              "      <td>NaN</td>\n",
              "      <td>NaN</td>\n",
              "      <td>NaN</td>\n",
              "      <td>...</td>\n",
              "      <td>0</td>\n",
              "      <td>0</td>\n",
              "      <td>0</td>\n",
              "      <td>0</td>\n",
              "      <td>0</td>\n",
              "      <td>0</td>\n",
              "      <td>0</td>\n",
              "      <td>0</td>\n",
              "      <td>0</td>\n",
              "      <td>0</td>\n",
              "    </tr>\n",
              "    <tr>\n",
              "      <th>2</th>\n",
              "      <td>4ft3gnwmtx</td>\n",
              "      <td>2010-09-28</td>\n",
              "      <td>2009-06-09</td>\n",
              "      <td>2010-08-02</td>\n",
              "      <td>56.0</td>\n",
              "      <td>US</td>\n",
              "      <td>NaN</td>\n",
              "      <td>NaN</td>\n",
              "      <td>NaN</td>\n",
              "      <td>NaN</td>\n",
              "      <td>...</td>\n",
              "      <td>0</td>\n",
              "      <td>0</td>\n",
              "      <td>0</td>\n",
              "      <td>0</td>\n",
              "      <td>0</td>\n",
              "      <td>0</td>\n",
              "      <td>0</td>\n",
              "      <td>0</td>\n",
              "      <td>0</td>\n",
              "      <td>0</td>\n",
              "    </tr>\n",
              "    <tr>\n",
              "      <th>3</th>\n",
              "      <td>bjjt8pjhuk</td>\n",
              "      <td>2011-12-05</td>\n",
              "      <td>2009-10-31</td>\n",
              "      <td>2012-09-08</td>\n",
              "      <td>42.0</td>\n",
              "      <td>other</td>\n",
              "      <td>NaN</td>\n",
              "      <td>NaN</td>\n",
              "      <td>NaN</td>\n",
              "      <td>NaN</td>\n",
              "      <td>...</td>\n",
              "      <td>0</td>\n",
              "      <td>0</td>\n",
              "      <td>0</td>\n",
              "      <td>0</td>\n",
              "      <td>0</td>\n",
              "      <td>0</td>\n",
              "      <td>0</td>\n",
              "      <td>0</td>\n",
              "      <td>0</td>\n",
              "      <td>0</td>\n",
              "    </tr>\n",
              "    <tr>\n",
              "      <th>4</th>\n",
              "      <td>87mebub9p4</td>\n",
              "      <td>2010-09-14</td>\n",
              "      <td>2009-12-08</td>\n",
              "      <td>2010-02-18</td>\n",
              "      <td>41.0</td>\n",
              "      <td>US</td>\n",
              "      <td>NaN</td>\n",
              "      <td>NaN</td>\n",
              "      <td>NaN</td>\n",
              "      <td>NaN</td>\n",
              "      <td>...</td>\n",
              "      <td>0</td>\n",
              "      <td>0</td>\n",
              "      <td>0</td>\n",
              "      <td>0</td>\n",
              "      <td>0</td>\n",
              "      <td>0</td>\n",
              "      <td>0</td>\n",
              "      <td>0</td>\n",
              "      <td>0</td>\n",
              "      <td>0</td>\n",
              "    </tr>\n",
              "    <tr>\n",
              "      <th>...</th>\n",
              "      <td>...</td>\n",
              "      <td>...</td>\n",
              "      <td>...</td>\n",
              "      <td>...</td>\n",
              "      <td>...</td>\n",
              "      <td>...</td>\n",
              "      <td>...</td>\n",
              "      <td>...</td>\n",
              "      <td>...</td>\n",
              "      <td>...</td>\n",
              "      <td>...</td>\n",
              "      <td>...</td>\n",
              "      <td>...</td>\n",
              "      <td>...</td>\n",
              "      <td>...</td>\n",
              "      <td>...</td>\n",
              "      <td>...</td>\n",
              "      <td>...</td>\n",
              "      <td>...</td>\n",
              "      <td>...</td>\n",
              "      <td>...</td>\n",
              "    </tr>\n",
              "    <tr>\n",
              "      <th>213446</th>\n",
              "      <td>zxodksqpep</td>\n",
              "      <td>2014-06-30</td>\n",
              "      <td>2014-06-30</td>\n",
              "      <td>NaT</td>\n",
              "      <td>32.0</td>\n",
              "      <td>NDF</td>\n",
              "      <td>0.0</td>\n",
              "      <td>0.0</td>\n",
              "      <td>0.0</td>\n",
              "      <td>0.0</td>\n",
              "      <td>...</td>\n",
              "      <td>0</td>\n",
              "      <td>0</td>\n",
              "      <td>0</td>\n",
              "      <td>0</td>\n",
              "      <td>0</td>\n",
              "      <td>0</td>\n",
              "      <td>0</td>\n",
              "      <td>0</td>\n",
              "      <td>0</td>\n",
              "      <td>0</td>\n",
              "    </tr>\n",
              "    <tr>\n",
              "      <th>213447</th>\n",
              "      <td>mhewnxesx9</td>\n",
              "      <td>2014-06-30</td>\n",
              "      <td>2014-06-30</td>\n",
              "      <td>NaT</td>\n",
              "      <td>NaN</td>\n",
              "      <td>NDF</td>\n",
              "      <td>0.0</td>\n",
              "      <td>0.0</td>\n",
              "      <td>0.0</td>\n",
              "      <td>0.0</td>\n",
              "      <td>...</td>\n",
              "      <td>0</td>\n",
              "      <td>0</td>\n",
              "      <td>0</td>\n",
              "      <td>0</td>\n",
              "      <td>0</td>\n",
              "      <td>0</td>\n",
              "      <td>0</td>\n",
              "      <td>0</td>\n",
              "      <td>0</td>\n",
              "      <td>0</td>\n",
              "    </tr>\n",
              "    <tr>\n",
              "      <th>213448</th>\n",
              "      <td>6o3arsjbb4</td>\n",
              "      <td>2014-06-30</td>\n",
              "      <td>2014-06-30</td>\n",
              "      <td>NaT</td>\n",
              "      <td>32.0</td>\n",
              "      <td>NDF</td>\n",
              "      <td>0.0</td>\n",
              "      <td>0.0</td>\n",
              "      <td>0.0</td>\n",
              "      <td>0.0</td>\n",
              "      <td>...</td>\n",
              "      <td>0</td>\n",
              "      <td>0</td>\n",
              "      <td>0</td>\n",
              "      <td>0</td>\n",
              "      <td>0</td>\n",
              "      <td>0</td>\n",
              "      <td>0</td>\n",
              "      <td>0</td>\n",
              "      <td>0</td>\n",
              "      <td>0</td>\n",
              "    </tr>\n",
              "    <tr>\n",
              "      <th>213449</th>\n",
              "      <td>jh95kwisub</td>\n",
              "      <td>2014-06-30</td>\n",
              "      <td>2014-06-30</td>\n",
              "      <td>NaT</td>\n",
              "      <td>NaN</td>\n",
              "      <td>NDF</td>\n",
              "      <td>0.0</td>\n",
              "      <td>0.0</td>\n",
              "      <td>0.0</td>\n",
              "      <td>0.0</td>\n",
              "      <td>...</td>\n",
              "      <td>0</td>\n",
              "      <td>0</td>\n",
              "      <td>0</td>\n",
              "      <td>0</td>\n",
              "      <td>0</td>\n",
              "      <td>0</td>\n",
              "      <td>0</td>\n",
              "      <td>0</td>\n",
              "      <td>0</td>\n",
              "      <td>0</td>\n",
              "    </tr>\n",
              "    <tr>\n",
              "      <th>213450</th>\n",
              "      <td>nw9fwlyb5f</td>\n",
              "      <td>2014-06-30</td>\n",
              "      <td>2014-06-30</td>\n",
              "      <td>NaT</td>\n",
              "      <td>NaN</td>\n",
              "      <td>NDF</td>\n",
              "      <td>0.0</td>\n",
              "      <td>0.0</td>\n",
              "      <td>0.0</td>\n",
              "      <td>0.0</td>\n",
              "      <td>...</td>\n",
              "      <td>0</td>\n",
              "      <td>0</td>\n",
              "      <td>0</td>\n",
              "      <td>0</td>\n",
              "      <td>0</td>\n",
              "      <td>0</td>\n",
              "      <td>0</td>\n",
              "      <td>0</td>\n",
              "      <td>0</td>\n",
              "      <td>0</td>\n",
              "    </tr>\n",
              "  </tbody>\n",
              "</table>\n",
              "<p>213451 rows × 691 columns</p>\n",
              "</div>\n",
              "      <button class=\"colab-df-convert\" onclick=\"convertToInteractive('df-c64e831c-6a66-4c44-b2be-ef1e555abdf1')\"\n",
              "              title=\"Convert this dataframe to an interactive table.\"\n",
              "              style=\"display:none;\">\n",
              "        \n",
              "  <svg xmlns=\"http://www.w3.org/2000/svg\" height=\"24px\"viewBox=\"0 0 24 24\"\n",
              "       width=\"24px\">\n",
              "    <path d=\"M0 0h24v24H0V0z\" fill=\"none\"/>\n",
              "    <path d=\"M18.56 5.44l.94 2.06.94-2.06 2.06-.94-2.06-.94-.94-2.06-.94 2.06-2.06.94zm-11 1L8.5 8.5l.94-2.06 2.06-.94-2.06-.94L8.5 2.5l-.94 2.06-2.06.94zm10 10l.94 2.06.94-2.06 2.06-.94-2.06-.94-.94-2.06-.94 2.06-2.06.94z\"/><path d=\"M17.41 7.96l-1.37-1.37c-.4-.4-.92-.59-1.43-.59-.52 0-1.04.2-1.43.59L10.3 9.45l-7.72 7.72c-.78.78-.78 2.05 0 2.83L4 21.41c.39.39.9.59 1.41.59.51 0 1.02-.2 1.41-.59l7.78-7.78 2.81-2.81c.8-.78.8-2.07 0-2.86zM5.41 20L4 18.59l7.72-7.72 1.47 1.35L5.41 20z\"/>\n",
              "  </svg>\n",
              "      </button>\n",
              "      \n",
              "  <style>\n",
              "    .colab-df-container {\n",
              "      display:flex;\n",
              "      flex-wrap:wrap;\n",
              "      gap: 12px;\n",
              "    }\n",
              "\n",
              "    .colab-df-convert {\n",
              "      background-color: #E8F0FE;\n",
              "      border: none;\n",
              "      border-radius: 50%;\n",
              "      cursor: pointer;\n",
              "      display: none;\n",
              "      fill: #1967D2;\n",
              "      height: 32px;\n",
              "      padding: 0 0 0 0;\n",
              "      width: 32px;\n",
              "    }\n",
              "\n",
              "    .colab-df-convert:hover {\n",
              "      background-color: #E2EBFA;\n",
              "      box-shadow: 0px 1px 2px rgba(60, 64, 67, 0.3), 0px 1px 3px 1px rgba(60, 64, 67, 0.15);\n",
              "      fill: #174EA6;\n",
              "    }\n",
              "\n",
              "    [theme=dark] .colab-df-convert {\n",
              "      background-color: #3B4455;\n",
              "      fill: #D2E3FC;\n",
              "    }\n",
              "\n",
              "    [theme=dark] .colab-df-convert:hover {\n",
              "      background-color: #434B5C;\n",
              "      box-shadow: 0px 1px 3px 1px rgba(0, 0, 0, 0.15);\n",
              "      filter: drop-shadow(0px 1px 2px rgba(0, 0, 0, 0.3));\n",
              "      fill: #FFFFFF;\n",
              "    }\n",
              "  </style>\n",
              "\n",
              "      <script>\n",
              "        const buttonEl =\n",
              "          document.querySelector('#df-c64e831c-6a66-4c44-b2be-ef1e555abdf1 button.colab-df-convert');\n",
              "        buttonEl.style.display =\n",
              "          google.colab.kernel.accessAllowed ? 'block' : 'none';\n",
              "\n",
              "        async function convertToInteractive(key) {\n",
              "          const element = document.querySelector('#df-c64e831c-6a66-4c44-b2be-ef1e555abdf1');\n",
              "          const dataTable =\n",
              "            await google.colab.kernel.invokeFunction('convertToInteractive',\n",
              "                                                     [key], {});\n",
              "          if (!dataTable) return;\n",
              "\n",
              "          const docLinkHtml = 'Like what you see? Visit the ' +\n",
              "            '<a target=\"_blank\" href=https://colab.research.google.com/notebooks/data_table.ipynb>data table notebook</a>'\n",
              "            + ' to learn more about interactive tables.';\n",
              "          element.innerHTML = '';\n",
              "          dataTable['output_type'] = 'display_data';\n",
              "          await google.colab.output.renderOutput(dataTable, element);\n",
              "          const docLink = document.createElement('div');\n",
              "          docLink.innerHTML = docLinkHtml;\n",
              "          element.appendChild(docLink);\n",
              "        }\n",
              "      </script>\n",
              "    </div>\n",
              "  </div>\n",
              "  "
            ]
          },
          "metadata": {},
          "execution_count": 32
        }
      ]
    },
    {
      "cell_type": "code",
      "source": [
        " train_users = train_users.drop(columns=features)"
      ],
      "metadata": {
        "id": "ttl-MkizBc73"
      },
      "id": "ttl-MkizBc73",
      "execution_count": 41,
      "outputs": []
    },
    {
      "cell_type": "code",
      "source": [
        "encoder = OrdinalEncoder()\n",
        "train_users[\"country_destination\"] = encoder.fit_transform(pd.DataFrame(train_users[\"country_destination\"]))"
      ],
      "metadata": {
        "id": "uSbz_8sYA2dI"
      },
      "id": "uSbz_8sYA2dI",
      "execution_count": 39,
      "outputs": []
    },
    {
      "cell_type": "markdown",
      "source": [
        "## Time"
      ],
      "metadata": {
        "id": "pVW3YuwEHpJP"
      },
      "id": "pVW3YuwEHpJP"
    },
    {
      "cell_type": "code",
      "source": [
        "train_users[\"date_account_created_y\"] = train_users[\"date_account_created\"].dt.year\n",
        "train_users[\"date_account_created_m\"] = train_users[\"date_account_created\"].dt.month\n",
        "train_users[\"date_account_created_d\"] = train_users[\"date_account_created\"].dt.day"
      ],
      "metadata": {
        "id": "Dje9hdLqHs6F"
      },
      "id": "Dje9hdLqHs6F",
      "execution_count": 55,
      "outputs": []
    },
    {
      "cell_type": "code",
      "source": [
        "train_users[\"timestamp_first_active_y\"] = train_users[\"timestamp_first_active\"].dt.year\n",
        "train_users[\"timestamp_first_active_m\"] = train_users[\"timestamp_first_active\"].dt.month\n",
        "train_users[\"timestamp_first_active_d\"] = train_users[\"timestamp_first_active\"].dt.day"
      ],
      "metadata": {
        "id": "L-jJ6lvgIcwe"
      },
      "id": "L-jJ6lvgIcwe",
      "execution_count": 56,
      "outputs": []
    },
    {
      "cell_type": "code",
      "source": [
        "train_users = train_users.drop(columns=[\"date_account_created\", \"timestamp_first_active\"])"
      ],
      "metadata": {
        "id": "UBP2bUiGIy8K"
      },
      "id": "UBP2bUiGIy8K",
      "execution_count": 57,
      "outputs": []
    },
    {
      "cell_type": "markdown",
      "source": [
        "# Build Model\n"
      ],
      "metadata": {
        "id": "TxxvdInNvXQW"
      },
      "id": "TxxvdInNvXQW"
    },
    {
      "cell_type": "code",
      "source": [
        "from sklearn.model_selection import train_test_split "
      ],
      "metadata": {
        "id": "Evj6FNZ_wQwz"
      },
      "id": "Evj6FNZ_wQwz",
      "execution_count": 46,
      "outputs": []
    },
    {
      "cell_type": "code",
      "source": [
        "x = train_users.drop(columns=[\"date_first_booking\", \"country_destination\", \"id\"])\n",
        "y = train_users[\"country_destination\"]"
      ],
      "metadata": {
        "id": "ZhyuMfXDvcjI"
      },
      "id": "ZhyuMfXDvcjI",
      "execution_count": 59,
      "outputs": []
    },
    {
      "cell_type": "code",
      "source": [
        "x_train, x_valid, y_train, y_valid = train_test_split(x, y, train_size=0.8)"
      ],
      "metadata": {
        "id": "kEjD_Iouv_Oe"
      },
      "id": "kEjD_Iouv_Oe",
      "execution_count": 60,
      "outputs": []
    },
    {
      "cell_type": "code",
      "source": [
        "model_xgb = xgb.XGBClassifier(max_depth=6, learning_rate=0.3, n_estimators=25,\n",
        "                    objective='multi:softprob', subsample=0.5, colsample_bytree=0.5, seed=0)                  \n",
        "model_xgb.fit(x_train, y_train)"
      ],
      "metadata": {
        "colab": {
          "base_uri": "https://localhost:8080/"
        },
        "id": "AQE28qNzw6mO",
        "outputId": "7166c307-ec96-4183-c4f8-c0473562ad11"
      },
      "id": "AQE28qNzw6mO",
      "execution_count": 61,
      "outputs": [
        {
          "output_type": "execute_result",
          "data": {
            "text/plain": [
              "XGBClassifier(colsample_bytree=0.5, learning_rate=0.3, max_depth=6,\n",
              "              n_estimators=25, objective='multi:softprob', seed=0,\n",
              "              subsample=0.5)"
            ]
          },
          "metadata": {},
          "execution_count": 61
        }
      ]
    },
    {
      "cell_type": "code",
      "source": [
        "y_pred = model_xgb.predict(x_train)"
      ],
      "metadata": {
        "id": "-ytA2-khMHC8"
      },
      "id": "-ytA2-khMHC8",
      "execution_count": 63,
      "outputs": []
    },
    {
      "cell_type": "code",
      "source": [
        "from sklearn.metrics import accuracy_score"
      ],
      "metadata": {
        "id": "pmst7ZqjMN0k"
      },
      "id": "pmst7ZqjMN0k",
      "execution_count": 64,
      "outputs": []
    },
    {
      "cell_type": "code",
      "source": [
        "accuracy_score(y_train, y_pred)"
      ],
      "metadata": {
        "colab": {
          "base_uri": "https://localhost:8080/"
        },
        "id": "bONN0sbGMpAw",
        "outputId": "c80dfb0b-4a28-42b2-fd09-0da901b4f63a"
      },
      "id": "bONN0sbGMpAw",
      "execution_count": 65,
      "outputs": [
        {
          "output_type": "execute_result",
          "data": {
            "text/plain": [
              "0.6588896697118763"
            ]
          },
          "metadata": {},
          "execution_count": 65
        }
      ]
    }
  ],
  "metadata": {
    "kernelspec": {
      "display_name": "Python 3 (ipykernel)",
      "language": "python",
      "name": "python3"
    },
    "language_info": {
      "codemirror_mode": {
        "name": "ipython",
        "version": 3
      },
      "file_extension": ".py",
      "mimetype": "text/x-python",
      "name": "python",
      "nbconvert_exporter": "python",
      "pygments_lexer": "ipython3",
      "version": "3.8.12"
    },
    "toc": {
      "base_numbering": 1,
      "nav_menu": {},
      "number_sections": true,
      "sideBar": true,
      "skip_h1_title": false,
      "title_cell": "Table of Contents",
      "title_sidebar": "Contents",
      "toc_cell": false,
      "toc_position": {
        "height": "calc(100% - 180px)",
        "left": "10px",
        "top": "150px",
        "width": "303.542px"
      },
      "toc_section_display": true,
      "toc_window_display": true
    },
    "colab": {
      "name": "Airbnb_New_User _Bookings .ipynb",
      "provenance": [],
      "toc_visible": true,
      "collapsed_sections": [],
      "include_colab_link": true
    }
  },
  "nbformat": 4,
  "nbformat_minor": 5
}