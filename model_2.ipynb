{
  "nbformat": 4,
  "nbformat_minor": 0,
  "metadata": {
    "colab": {
      "name": "model_2.ipynb",
      "provenance": [],
      "collapsed_sections": [],
      "mount_file_id": "13XS-6yBoqcXK2UsBmBjma9TB8k1pS84g",
      "authorship_tag": "ABX9TyPLI2JRd3CxVOiwpQyIjWXQ",
      "include_colab_link": true
    },
    "kernelspec": {
      "name": "python3",
      "display_name": "Python 3"
    },
    "language_info": {
      "name": "python"
    }
  },
  "cells": [
    {
      "cell_type": "markdown",
      "metadata": {
        "id": "view-in-github",
        "colab_type": "text"
      },
      "source": [
        "<a href=\"https://colab.research.google.com/github/CT608/Kaggle_Project/blob/main/model_2.ipynb\" target=\"_parent\"><img src=\"https://colab.research.google.com/assets/colab-badge.svg\" alt=\"Open In Colab\"/></a>"
      ]
    },
    {
      "cell_type": "markdown",
      "source": [
        "# package\n"
      ],
      "metadata": {
        "id": "I0Wzz_1j4itr"
      }
    },
    {
      "cell_type": "code",
      "execution_count": 85,
      "metadata": {
        "id": "RWNt2zI09BSQ"
      },
      "outputs": [],
      "source": [
        "import pandas as pd\n",
        "import numpy as np\n",
        "from sklearn.model_selection import train_test_split\n",
        "from sklearn.preprocessing import OrdinalEncoder\n",
        "import xgboost as xgb\n",
        "from sklearn.model_selection import RandomizedSearchCV\n",
        "from sklearn.model_selection import GridSearchCV\n",
        "from sklearn.preprocessing import LabelBinarizer\n",
        "from sklearn.metrics import make_scorer\n",
        "import pickle\n",
        "import lightgbm as lgb\n",
        "from sklearn.model_selection import KFold\n",
        "from sklearn.linear_model import LogisticRegression\n",
        "\n",
        "import warnings\n",
        "warnings.filterwarnings(\"ignore\")"
      ]
    },
    {
      "cell_type": "markdown",
      "source": [
        "# import data"
      ],
      "metadata": {
        "id": "kxsPtYL84nhX"
      }
    },
    {
      "cell_type": "code",
      "source": [
        "sessions2 = pd.read_csv(\"/content/drive/MyDrive/Project/Airbnb New User Bookings/sessions2.csv\")\n",
        "users = pd.read_csv(\"/content/drive/MyDrive/Project/Airbnb New User Bookings/users.csv\")\n",
        "\n",
        "users.drop(columns=[\"Unnamed: 0\"], inplace=True)\n",
        "sessions2.drop(columns=[\"Unnamed: 0\"], inplace=True)\n",
        "\n",
        "x = pd.merge(users, sessions2, how=\"left\", on=\"id\")"
      ],
      "metadata": {
        "id": "Tdfa5NP39SeO"
      },
      "execution_count": 5,
      "outputs": []
    },
    {
      "cell_type": "code",
      "source": [
        "train_users = pd.read_csv(\"/content/drive/MyDrive/Project/Airbnb New User Bookings/train_users_2.csv\")\n",
        "test_users = pd.read_csv(\"/content/drive/MyDrive/Project/Airbnb New User Bookings/test_users.csv\")"
      ],
      "metadata": {
        "id": "nLg5SPUO9upT"
      },
      "execution_count": 6,
      "outputs": []
    },
    {
      "cell_type": "code",
      "source": [
        "sessions = pd.read_csv(\"/content/drive/MyDrive/Project/Airbnb New User Bookings/sessions.csv\")"
      ],
      "metadata": {
        "id": "AT1_dyYCPwux"
      },
      "execution_count": 7,
      "outputs": []
    },
    {
      "cell_type": "code",
      "source": [
        "x_train = x[x[\"mark\"] == 0].drop(columns=[\"mark\"])\n",
        "x_test = x[x[\"mark\"] == 1].drop(columns=[\"mark\"])"
      ],
      "metadata": {
        "id": "Q4JhlFaX97Uk"
      },
      "execution_count": 8,
      "outputs": []
    },
    {
      "cell_type": "code",
      "source": [
        "x_train[\"country_destination\"] = train_users[\"country_destination\"]"
      ],
      "metadata": {
        "id": "c71-Phlk-SdR"
      },
      "execution_count": 9,
      "outputs": []
    },
    {
      "cell_type": "code",
      "source": [
        "y_train = x_train[\"country_destination\"]"
      ],
      "metadata": {
        "id": "2NorwbFo-ljy"
      },
      "execution_count": 10,
      "outputs": []
    },
    {
      "cell_type": "code",
      "source": [
        "x_train.drop(columns=[\"date_first_booking\", \"country_destination\", \"id\"], inplace=True)\n",
        "x_test.drop(columns=[\"date_first_booking\", \"id\"], inplace=True)"
      ],
      "metadata": {
        "id": "cjztDsm--0Tz"
      },
      "execution_count": 11,
      "outputs": []
    },
    {
      "cell_type": "code",
      "source": [
        "x_train.shape"
      ],
      "metadata": {
        "colab": {
          "base_uri": "https://localhost:8080/"
        },
        "id": "xM9zjun8_RvK",
        "outputId": "c12dfd0f-1db2-40aa-e43e-bca7301cb01b"
      },
      "execution_count": 12,
      "outputs": [
        {
          "output_type": "execute_result",
          "data": {
            "text/plain": [
              "(213451, 698)"
            ]
          },
          "metadata": {},
          "execution_count": 12
        }
      ]
    },
    {
      "cell_type": "code",
      "source": [
        "y_train = pd.DataFrame(y_train)\n",
        "y_encoder = OrdinalEncoder()\n",
        "y_train = y_encoder.fit_transform(y_train)"
      ],
      "metadata": {
        "id": "1TXTyQYw_hGk"
      },
      "execution_count": 13,
      "outputs": []
    },
    {
      "cell_type": "code",
      "source": [
        "y_encoder.categories_"
      ],
      "metadata": {
        "colab": {
          "base_uri": "https://localhost:8080/"
        },
        "id": "70dNppUm_q9b",
        "outputId": "074c2cca-67cf-466a-f2a4-46b1120b7b5f"
      },
      "execution_count": 14,
      "outputs": [
        {
          "output_type": "execute_result",
          "data": {
            "text/plain": [
              "[array(['AU', 'CA', 'DE', 'ES', 'FR', 'GB', 'IT', 'NDF', 'NL', 'PT', 'US',\n",
              "        'other'], dtype=object)]"
            ]
          },
          "metadata": {},
          "execution_count": 14
        }
      ]
    },
    {
      "cell_type": "markdown",
      "source": [
        "# define score"
      ],
      "metadata": {
        "id": "T9HAjLD9OAb0"
      }
    },
    {
      "cell_type": "code",
      "source": [
        "def dcg_score(y_true, y_score, k=5):\n",
        "    \n",
        "    \"\"\"Discounted cumulative gain (DCG) at rank K.\n",
        "\n",
        "    Parameters\n",
        "    ----------\n",
        "    y_true : array, shape = [n_samples]\n",
        "        Ground truth (true relevance labels).\n",
        "    y_score : array, shape = [n_samples, n_classes]\n",
        "        Predicted scores.\n",
        "    k : int\n",
        "        Rank.\n",
        "\n",
        "    Returns\n",
        "    -------\n",
        "    score : float\n",
        "    \"\"\"\n",
        "    \n",
        "    order = np.argsort(y_score)[::-1]\n",
        "    y_true = np.take(y_true, order[:k])\n",
        "\n",
        "    gain = 2 ** y_true - 1\n",
        "\n",
        "    discounts = np.log2(np.arange(len(y_true)) + 2)\n",
        "    return np.sum(gain / discounts)\n",
        "\n",
        "\n",
        "def ndcg_score(ground_truth, predictions, k=5):\n",
        "    \n",
        "    \"\"\"Normalized discounted cumulative gain (NDCG) at rank K.\n",
        "\n",
        "    Normalized Discounted Cumulative Gain (NDCG) measures the performance of a\n",
        "    recommendation system based on the graded relevance of the recommended\n",
        "    entities. It varies from 0.0 to 1.0, with 1.0 representing the ideal\n",
        "    ranking of the entities.\n",
        "\n",
        "    Parameters\n",
        "    ----------\n",
        "    ground_truth : array, shape = [n_samples]\n",
        "        Ground truth (true labels represended as integers).\n",
        "    predictions : array, shape = [n_samples, n_classes]\n",
        "        Predicted probabilities.\n",
        "    k : int\n",
        "        Rank.\n",
        "\n",
        "    Returns\n",
        "    -------\n",
        "    score : float\n",
        "\n",
        "    Example\n",
        "    -------\n",
        "    >>> ground_truth = [1, 0, 2]\n",
        "    >>> predictions = [[0.15, 0.55, 0.2], [0.7, 0.2, 0.1], [0.06, 0.04, 0.9]]\n",
        "    >>> score = ndcg_score(ground_truth, predictions, k=2)\n",
        "    1.0\n",
        "    >>> predictions = [[0.9, 0.5, 0.8], [0.7, 0.2, 0.1], [0.06, 0.04, 0.9]]\n",
        "    >>> score = ndcg_score(ground_truth, predictions, k=2)\n",
        "    0.6666666666\n",
        "    \"\"\"\n",
        "    \n",
        "    lb = LabelBinarizer()\n",
        "    lb.fit(range(predictions.shape[1] + 1))\n",
        "    T = lb.transform(ground_truth)\n",
        "\n",
        "    scores = []\n",
        "\n",
        "    # Iterate over each y_true and compute the DCG score\n",
        "    for y_true, y_score in zip(T, predictions):\n",
        "        actual = dcg_score(y_true, y_score, k)\n",
        "        best = dcg_score(y_true, y_true, k)\n",
        "        score = float(actual) / float(best)\n",
        "        scores.append(score)\n",
        "\n",
        "    return np.mean(scores)\n",
        "\n",
        "\n",
        "# NDCG Scorer function\n",
        "ndcg_scorer = make_scorer(ndcg_score, needs_proba=True, k=5)"
      ],
      "metadata": {
        "id": "JwlSheyYAESn"
      },
      "execution_count": 94,
      "outputs": []
    },
    {
      "cell_type": "markdown",
      "source": [
        "# model\n"
      ],
      "metadata": {
        "id": "NWldkk1rOGFN"
      }
    },
    {
      "cell_type": "markdown",
      "source": [
        "## action model"
      ],
      "metadata": {
        "id": "HfVdNAHuSvSL"
      }
    },
    {
      "cell_type": "code",
      "source": [
        "action_col = x_train.columns[161:684]"
      ],
      "metadata": {
        "id": "arUSv67LPaFM"
      },
      "execution_count": 154,
      "outputs": []
    },
    {
      "cell_type": "code",
      "source": [
        "x_train_act = x_train[action_col]\n",
        "x_test_act = x_test[action_col]"
      ],
      "metadata": {
        "id": "HnwQl828Rcld"
      },
      "execution_count": 155,
      "outputs": []
    },
    {
      "cell_type": "code",
      "source": [
        "gb_action = xgb.XGBClassifier(base_score=0.5, booster='gbtree', colsample_bylevel=1,\n",
        "       colsample_bytree=1, eval_metric='mlogloss', gamma=0,\n",
        "       learning_rate=0.1, max_delta_step=0, max_depth=3,\n",
        "       min_child_weight=1, n_estimators=100, n_jobs=-1, objective='multi:softmax', random_state=0,\n",
        "       reg_lambda=1, subsample=1)"
      ],
      "metadata": {
        "id": "sieaAyG2RcB7"
      },
      "execution_count": null,
      "outputs": []
    },
    {
      "cell_type": "code",
      "source": [
        "gb_action.fit(x_train_act,y_train)\n",
        "pickle.dump(gb_action, open(\"/content/drive/MyDrive/Project/Airbnb New User Bookings/gb_action.pickle.dat\", \"wb\"))"
      ],
      "metadata": {
        "id": "W5a9byoNRbUQ"
      },
      "execution_count": null,
      "outputs": []
    },
    {
      "cell_type": "code",
      "source": [
        "gb_action = pickle.load(open(\"/content/drive/MyDrive/Project/Airbnb New User Bookings/gb_action.pickle.dat\", \"rb\"))"
      ],
      "metadata": {
        "id": "tPTpWVOuTq7f"
      },
      "execution_count": 152,
      "outputs": []
    },
    {
      "cell_type": "code",
      "source": [
        "y_tr_pred_act = gb_action.predict_proba(x_train_act)\n",
        "y_te_pred_act = gb_action.predict_proba(x_test_act)"
      ],
      "metadata": {
        "id": "eY2OUEAFAkhe"
      },
      "execution_count": 156,
      "outputs": []
    },
    {
      "cell_type": "code",
      "source": [
        "pd.DataFrame(y_tr_pred_act).to_csv(\"/content/drive/MyDrive/Project/Airbnb New User Bookings/y_tr_pred_act.csv\")\n",
        "pd.DataFrame(y_te_pred_act).to_csv(\"/content/drive/MyDrive/Project/Airbnb New User Bookings/y_te_pred_act.csv\")"
      ],
      "metadata": {
        "id": "Uwt5a7etXJvn"
      },
      "execution_count": 157,
      "outputs": []
    },
    {
      "cell_type": "code",
      "source": [
        "ndcg_score(y_train, y_tr_pred_act, k=5)"
      ],
      "metadata": {
        "colab": {
          "base_uri": "https://localhost:8080/"
        },
        "id": "LbXrZf0AAuNF",
        "outputId": "3468c110-47b6-4315-f4c8-21f6e4ff57fa"
      },
      "execution_count": 159,
      "outputs": [
        {
          "output_type": "execute_result",
          "data": {
            "text/plain": [
              "0.816572920215975"
            ]
          },
          "metadata": {},
          "execution_count": 159
        }
      ]
    },
    {
      "cell_type": "markdown",
      "source": [
        "# other model"
      ],
      "metadata": {
        "id": "ceR-4zz5fUAD"
      }
    },
    {
      "cell_type": "code",
      "source": [
        "other_col = np.array(x_train.columns[12:160])\n",
        "other_col = np.append(other_col, x_train.columns[684:])"
      ],
      "metadata": {
        "id": "Zci7oEv4diw7"
      },
      "execution_count": null,
      "outputs": []
    },
    {
      "cell_type": "code",
      "source": [
        "x_train_othr = x_train[other_col]\n",
        "x_test_othr = x_test[other_col]"
      ],
      "metadata": {
        "id": "7vJd0SJbhKWT"
      },
      "execution_count": null,
      "outputs": []
    },
    {
      "cell_type": "code",
      "source": [
        "y_train = pd.DataFrame(y_train)"
      ],
      "metadata": {
        "id": "kLHSqMk_lTN0"
      },
      "execution_count": null,
      "outputs": []
    },
    {
      "cell_type": "markdown",
      "source": [
        "## parameter optimization"
      ],
      "metadata": {
        "id": "SYWUSVtB4zgF"
      }
    },
    {
      "cell_type": "code",
      "source": [
        "params = {\n",
        "    'num_leaves': [200, 150, 180],\n",
        "    'num_iterations': [80, 50], \n",
        "    \"learning_rate\": [0.01],\n",
        "    \"max_depth\": [3, 4, 5],\n",
        "          }"
      ],
      "metadata": {
        "id": "eG8hsteDhT8V"
      },
      "execution_count": null,
      "outputs": []
    },
    {
      "cell_type": "code",
      "source": [
        "lgb_othr = lgb.LGBMClassifier(objective=\"multiclass\", num_classes=12)\n",
        "\n",
        "search_model = RandomizedSearchCV(\n",
        "    lgb_othr,\n",
        "    params, \n",
        "    verbose = 100, \n",
        "    cv = 3, \n",
        "    n_jobs = -1, \n",
        "    scoring = ndcg_scorer,\n",
        "    return_train_score=True\n",
        ")\n",
        "\n",
        "search_model.fit(x_train_othr, y_train)"
      ],
      "metadata": {
        "colab": {
          "base_uri": "https://localhost:8080/"
        },
        "id": "iscN5BcAhUCm",
        "outputId": "539c44da-b8b0-4433-ab85-00082cc0b557"
      },
      "execution_count": null,
      "outputs": [
        {
          "output_type": "stream",
          "name": "stdout",
          "text": [
            "Fitting 3 folds for each of 10 candidates, totalling 30 fits\n"
          ]
        },
        {
          "output_type": "execute_result",
          "data": {
            "text/plain": [
              "RandomizedSearchCV(cv=3,\n",
              "                   estimator=LGBMClassifier(num_classes=12,\n",
              "                                            objective='multiclass'),\n",
              "                   n_jobs=-1,\n",
              "                   param_distributions={'learning_rate': [0.01],\n",
              "                                        'max_depth': [3, 4, 5],\n",
              "                                        'num_iterations': [80, 50],\n",
              "                                        'num_leaves': [200, 150, 180]},\n",
              "                   return_train_score=True,\n",
              "                   scoring=make_scorer(ndcg_score, needs_proba=True, k=5),\n",
              "                   verbose=100)"
            ]
          },
          "metadata": {},
          "execution_count": 23
        }
      ]
    },
    {
      "cell_type": "code",
      "source": [
        "search_model.best_params_"
      ],
      "metadata": {
        "colab": {
          "base_uri": "https://localhost:8080/"
        },
        "id": "qaN97ym7hUG7",
        "outputId": "dbd85f1a-b516-4ca6-deeb-85ac50e2d757"
      },
      "execution_count": null,
      "outputs": [
        {
          "output_type": "execute_result",
          "data": {
            "text/plain": [
              "{'learning_rate': 0.01,\n",
              " 'max_depth': 5,\n",
              " 'num_iterations': 50,\n",
              " 'num_leaves': 200}"
            ]
          },
          "metadata": {},
          "execution_count": 27
        }
      ]
    },
    {
      "cell_type": "code",
      "source": [
        "search_model.best_score_"
      ],
      "metadata": {
        "colab": {
          "base_uri": "https://localhost:8080/"
        },
        "id": "zmie7ATKrKmG",
        "outputId": "b4148950-4c40-43bf-f189-49800d7ea9fd"
      },
      "execution_count": null,
      "outputs": [
        {
          "output_type": "execute_result",
          "data": {
            "text/plain": [
              "0.8067732215845593"
            ]
          },
          "metadata": {},
          "execution_count": 26
        }
      ]
    },
    {
      "cell_type": "code",
      "source": [
        "ndcg_score(y_train, aaa, k=5)"
      ],
      "metadata": {
        "colab": {
          "base_uri": "https://localhost:8080/"
        },
        "id": "OLhDHQ41hUKg",
        "outputId": "79dafc1c-650b-4c91-97e3-7de7022ae214"
      },
      "execution_count": null,
      "outputs": [
        {
          "output_type": "execute_result",
          "data": {
            "text/plain": [
              "0.8144566093617223"
            ]
          },
          "metadata": {},
          "execution_count": 44
        }
      ]
    },
    {
      "cell_type": "markdown",
      "source": [
        "## predict\n"
      ],
      "metadata": {
        "id": "Fl7bPuCW4-B0"
      }
    },
    {
      "cell_type": "code",
      "source": [
        "lgb_othr = lgb.LGBMClassifier(\n",
        "    objective=\"multiclass\", \n",
        "    num_classes=12,\n",
        "    learning_rate = 0.01,\n",
        "    max_depth = 5,\n",
        "    num_iterations = 50,\n",
        "    num_leaves = 200,\n",
        "    )"
      ],
      "metadata": {
        "id": "UnB1RCOXhUN8"
      },
      "execution_count": 55,
      "outputs": []
    },
    {
      "cell_type": "code",
      "source": [
        "def get_oof(clf, x_train_f, y_train_f, x_test_f, nfolds):\n",
        "    ntrain = x_train_f.shape[0]\n",
        "    ntest = x_test_f.shape[0]\n",
        "    nclass = len(np.unique(y_train_f))\n",
        "\n",
        "    oof_train = np.zeros((ntrain, nclass))\n",
        "    oof_test = np.zeros((ntest, nclass))\n",
        "\n",
        "    kf = KFold(n_splits=nfolds, shuffle=True, random_state=0)\n",
        "\n",
        "    for train_index, valid_index in kf.split(x_train_f):\n",
        "        x_tr = x_train_f.iloc[train_index]\n",
        "        y_tr = y_train_f[train_index]\n",
        "        x_vl = x_train_f.iloc[valid_index]\n",
        "\n",
        "        clf.fit(x_tr, y_tr)\n",
        "\n",
        "        oof_train[valid_index] = clf.predict_proba(x_vl)\n",
        "        oof_test += clf.predict_proba(x_test_f)\n",
        "\n",
        "    oof_test = oof_test / nfolds\n",
        "    return oof_train, oof_test"
      ],
      "metadata": {
        "id": "gjC-538DhUdB"
      },
      "execution_count": 128,
      "outputs": []
    },
    {
      "cell_type": "code",
      "source": [
        "y_tr_pred_othr, y_te_pred_othr = get_oof(lgb_othr, x_train_othr, y_train, x_test_othr, 3)"
      ],
      "metadata": {
        "id": "65pw8KALBfIx"
      },
      "execution_count": 149,
      "outputs": []
    },
    {
      "cell_type": "code",
      "source": [
        "pd.DataFrame(y_tr_pred_othr).to_csv(\"/content/drive/MyDrive/Project/Airbnb New User Bookings/y_tr_pred_othr.csv\")\n",
        "pd.DataFrame(y_te_pred_othr).to_csv(\"/content/drive/MyDrive/Project/Airbnb New User Bookings/y_te_pred_othr.csv\")"
      ],
      "metadata": {
        "id": "DqYZKO4ZUxD3"
      },
      "execution_count": 150,
      "outputs": []
    },
    {
      "cell_type": "code",
      "source": [
        "ndcg_score(y_train, y_tr_pred_othr, k=5)"
      ],
      "metadata": {
        "colab": {
          "base_uri": "https://localhost:8080/"
        },
        "id": "KvIG9WKlH9W2",
        "outputId": "8ca2259b-8197-480d-adb6-c77f432f9296"
      },
      "execution_count": 151,
      "outputs": [
        {
          "output_type": "execute_result",
          "data": {
            "text/plain": [
              "0.8067599694970453"
            ]
          },
          "metadata": {},
          "execution_count": 151
        }
      ]
    },
    {
      "cell_type": "markdown",
      "source": [
        "# age and gender model"
      ],
      "metadata": {
        "id": "IqpXpf-3SCJF"
      }
    },
    {
      "cell_type": "code",
      "source": [
        "ag_col = x_train.columns[0:11]\n",
        "x_train_ag = x_train[ag_col]\n",
        "x_test_ag = x_test[ag_col]"
      ],
      "metadata": {
        "id": "OWVFhXROQbj7"
      },
      "execution_count": 138,
      "outputs": []
    },
    {
      "cell_type": "markdown",
      "source": [
        "## parameter optimation"
      ],
      "metadata": {
        "id": "T_dCZCn0RjXF"
      }
    },
    {
      "cell_type": "code",
      "source": [
        "params = {\n",
        "    'num_leaves': [200, 150, 180],\n",
        "    'num_iterations': [80, 50], \n",
        "    \"learning_rate\": [0.01],\n",
        "    \"max_depth\": [3, 4, 5],\n",
        "          }"
      ],
      "metadata": {
        "id": "kEQ-fRttQcos"
      },
      "execution_count": 139,
      "outputs": []
    },
    {
      "cell_type": "code",
      "source": [
        "lgb_ag = lgb.LGBMClassifier(objective=\"multiclass\", num_classes=12)\n",
        "\n",
        "search_model = RandomizedSearchCV(\n",
        "    lgb_ag,\n",
        "    params, \n",
        "    verbose = 10, \n",
        "    cv = 3, \n",
        "    n_jobs = -1, \n",
        "    scoring = ndcg_scorer,\n",
        "    return_train_score=True\n",
        ")\n",
        "\n",
        "search_model.fit(x_train_ag, y_train)\n",
        "search_model.best_params_"
      ],
      "metadata": {
        "colab": {
          "base_uri": "https://localhost:8080/"
        },
        "id": "BH5V2N1IRmmH",
        "outputId": "16f9f365-08b4-471f-a466-3ef1d1b7db7e"
      },
      "execution_count": 141,
      "outputs": [
        {
          "output_type": "stream",
          "name": "stdout",
          "text": [
            "Fitting 3 folds for each of 10 candidates, totalling 30 fits\n"
          ]
        },
        {
          "output_type": "execute_result",
          "data": {
            "text/plain": [
              "{'learning_rate': 0.01,\n",
              " 'max_depth': 3,\n",
              " 'num_iterations': 50,\n",
              " 'num_leaves': 200}"
            ]
          },
          "metadata": {},
          "execution_count": 141
        }
      ]
    },
    {
      "cell_type": "code",
      "source": [
        "search_model.best_score_"
      ],
      "metadata": {
        "colab": {
          "base_uri": "https://localhost:8080/"
        },
        "id": "TIdig6RaQdMN",
        "outputId": "f6d416fd-3025-40b8-ed68-8b73bc2ed247"
      },
      "execution_count": 142,
      "outputs": [
        {
          "output_type": "execute_result",
          "data": {
            "text/plain": [
              "0.7972958870386279"
            ]
          },
          "metadata": {},
          "execution_count": 142
        }
      ]
    },
    {
      "cell_type": "code",
      "source": [
        "lgb_ag = lgb.LGBMClassifier(\n",
        "    objective=\"multiclass\", \n",
        "    num_classes=12,\n",
        "    learning_rate = 0.01,\n",
        "    max_depth = 3,\n",
        "    num_iterations = 50,\n",
        "    num_leaves = 200,\n",
        "    )"
      ],
      "metadata": {
        "id": "KzAJ9FwXQdQ6"
      },
      "execution_count": 144,
      "outputs": []
    },
    {
      "cell_type": "code",
      "source": [
        "y_tr_pred_ag, y_te_pred_ag = get_oof(lgb_ag, x_train_ag, y_train, x_test_ag, 3)"
      ],
      "metadata": {
        "id": "ANlpXQhmQdVB"
      },
      "execution_count": 146,
      "outputs": []
    },
    {
      "cell_type": "code",
      "source": [
        "pd.DataFrame(y_tr_pred_ag).to_csv(\"/content/drive/MyDrive/Project/Airbnb New User Bookings/y_tr_pred_ag.csv\")\n",
        "pd.DataFrame(y_te_pred_ag).to_csv(\"/content/drive/MyDrive/Project/Airbnb New User Bookings/y_te_pred_ag.csv\")"
      ],
      "metadata": {
        "id": "nR1uNxWnWQ5h"
      },
      "execution_count": 147,
      "outputs": []
    },
    {
      "cell_type": "code",
      "source": [
        "ndcg_score(y_train, y_tr_pred_ag, k=5)"
      ],
      "metadata": {
        "colab": {
          "base_uri": "https://localhost:8080/"
        },
        "id": "bLYmD5anQdYN",
        "outputId": "8885ac42-3142-4466-f465-e4fdba214f3a"
      },
      "execution_count": 148,
      "outputs": [
        {
          "output_type": "execute_result",
          "data": {
            "text/plain": [
              "0.8067998771231959"
            ]
          },
          "metadata": {},
          "execution_count": 148
        }
      ]
    },
    {
      "cell_type": "markdown",
      "source": [
        "# multi"
      ],
      "metadata": {
        "id": "povNaSN22d72"
      }
    },
    {
      "cell_type": "code",
      "source": [
        "y_tr_pred_act = pd.read_csv(\"/content/drive/MyDrive/Project/Airbnb New User Bookings/y_tr_pred_act.csv\", )\n",
        "y_te_pred_act = pd.read_csv(\"/content/drive/MyDrive/Project/Airbnb New User Bookings/y_te_pred_act.csv\")\n",
        "\n",
        "y_tr_pred_othr = pd.read_csv(\"/content/drive/MyDrive/Project/Airbnb New User Bookings/y_tr_pred_othr.csv\")\n",
        "y_te_pred_othr = pd.read_csv(\"/content/drive/MyDrive/Project/Airbnb New User Bookings/y_te_pred_othr.csv\")\n",
        "\n",
        "y_tr_pred_ag = pd.read_csv(\"/content/drive/MyDrive/Project/Airbnb New User Bookings/y_tr_pred_ag.csv\")\n",
        "y_te_pred_ag = pd.read_csv(\"/content/drive/MyDrive/Project/Airbnb New User Bookings/y_te_pred_ag.csv\")\n",
        "\n",
        "y_tr_pred_act.drop(columns=[\"Unnamed: 0\"], inplace=True)\n",
        "y_te_pred_act.drop(columns=[\"Unnamed: 0\"], inplace=True)\n",
        "y_tr_pred_othr.drop(columns=[\"Unnamed: 0\"], inplace=True)\n",
        "y_te_pred_othr.drop(columns=[\"Unnamed: 0\"], inplace=True)\n",
        "y_tr_pred_ag.drop(columns=[\"Unnamed: 0\"], inplace=True)\n",
        "y_te_pred_ag.drop(columns=[\"Unnamed: 0\"], inplace=True)"
      ],
      "metadata": {
        "id": "8tmH5G9l2bpR"
      },
      "execution_count": 73,
      "outputs": []
    },
    {
      "cell_type": "code",
      "source": [
        "names = np.array([\"act\", \"othr\", \"ag\"])"
      ],
      "metadata": {
        "id": "rq44RbUC3s5M"
      },
      "execution_count": 74,
      "outputs": []
    },
    {
      "cell_type": "code",
      "source": [
        "col = np.array([])"
      ],
      "metadata": {
        "id": "MP1bXIZK33ct"
      },
      "execution_count": 75,
      "outputs": []
    },
    {
      "cell_type": "code",
      "source": [
        "for name in names:\n",
        "    for i in np.arange(12):\n",
        "        name_i = name +str(i)\n",
        "        col = np.append(col, name_i)"
      ],
      "metadata": {
        "id": "qsTtPvR94ZJm"
      },
      "execution_count": 76,
      "outputs": []
    },
    {
      "cell_type": "code",
      "source": [
        "x_tr_lay1 = pd.concat([y_tr_pred_act, y_tr_pred_othr, y_tr_pred_ag], axis=1)\n",
        "x_tr_lay1.columns = col\n",
        "\n",
        "x_te_lay1 = pd.concat([y_te_pred_act, y_te_pred_othr, y_te_pred_ag], axis=1)\n",
        "x_te_lay1.columns = col"
      ],
      "metadata": {
        "id": "c_eooXsl5UGS"
      },
      "execution_count": 86,
      "outputs": []
    },
    {
      "cell_type": "code",
      "source": [
        "lg = LogisticRegression()\n",
        "lg.fit(x_tr_lay1, y_train)"
      ],
      "metadata": {
        "colab": {
          "base_uri": "https://localhost:8080/"
        },
        "id": "AjCZgtBv9Hg1",
        "outputId": "e8af3e1f-2bf6-457b-fa70-9c20e858bfac"
      },
      "execution_count": 87,
      "outputs": [
        {
          "output_type": "execute_result",
          "data": {
            "text/plain": [
              "LogisticRegression()"
            ]
          },
          "metadata": {},
          "execution_count": 87
        }
      ]
    },
    {
      "cell_type": "code",
      "source": [
        "y_tr_pred  = lg.predict_proba(x_tr_lay1)"
      ],
      "metadata": {
        "id": "OPuRH104GOep"
      },
      "execution_count": 90,
      "outputs": []
    },
    {
      "cell_type": "code",
      "source": [
        "ndcg_score(y_train, y_tr_pred, k=5)"
      ],
      "metadata": {
        "colab": {
          "base_uri": "https://localhost:8080/"
        },
        "id": "6BMpikuuGffn",
        "outputId": "c6217a41-64c7-4a71-a610-36dc1ff7331c"
      },
      "execution_count": 95,
      "outputs": [
        {
          "output_type": "execute_result",
          "data": {
            "text/plain": [
              "0.8237972038937806"
            ]
          },
          "metadata": {},
          "execution_count": 95
        }
      ]
    },
    {
      "cell_type": "code",
      "source": [
        "test_id = test_users['id'].values"
      ],
      "metadata": {
        "id": "1CqP7opjA8D0"
      },
      "execution_count": 96,
      "outputs": []
    },
    {
      "cell_type": "code",
      "source": [
        "pred_y = lg.predict_proba(x_te_lay1)"
      ],
      "metadata": {
        "id": "mOcCuL-fBAeV"
      },
      "execution_count": 97,
      "outputs": []
    },
    {
      "cell_type": "code",
      "source": [
        "#Taking the 5 classes with highest probabilities\n",
        "ids = []  #list of ids\n",
        "cts = []  #list of countries\n",
        "for i in range(len(test_id)):\n",
        "    idx = test_id[i]\n",
        "    ids += [idx] * 5\n",
        "    cts += y_encoder.inverse_transform(np.argsort(pred_y[i])[::-1].reshape(-1, 1))[:5].tolist()\n",
        "# Generate submission\n",
        "sub = pd.DataFrame(np.column_stack((ids, cts)), columns=['id', 'country'])\n",
        "sub.to_csv('/content/drive/MyDrive/Project/Airbnb New User Bookings/sub.csv',index=False)\n"
      ],
      "metadata": {
        "id": "NkVv81vOBBFC"
      },
      "execution_count": 98,
      "outputs": []
    },
    {
      "cell_type": "code",
      "source": [
        "x_samp = x_train_othr.sample(frac=0.01)\n",
        "y_samp = y_train[x_samp.index]\n",
        "x_test_samp = x_test_othr.sample(frac=0.01)"
      ],
      "metadata": {
        "id": "AFK1ImwfAwNj"
      },
      "execution_count": 115,
      "outputs": []
    }
  ]
}